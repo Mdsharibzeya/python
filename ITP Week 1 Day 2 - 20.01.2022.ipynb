{
 "cells": [
  {
   "cell_type": "markdown",
   "id": "9b01f933",
   "metadata": {},
   "source": [
    "# Complex Numbers "
   ]
  },
  {
   "cell_type": "code",
   "execution_count": 1,
   "id": "7c8f629a",
   "metadata": {},
   "outputs": [],
   "source": [
    "x = 3 + 2j"
   ]
  },
  {
   "cell_type": "code",
   "execution_count": 2,
   "id": "aedf0214",
   "metadata": {},
   "outputs": [
    {
     "data": {
      "text/plain": [
       "complex"
      ]
     },
     "execution_count": 2,
     "metadata": {},
     "output_type": "execute_result"
    }
   ],
   "source": [
    "type(x)"
   ]
  },
  {
   "cell_type": "markdown",
   "id": "7ffe8c31",
   "metadata": {},
   "source": [
    "# Python Strings"
   ]
  },
  {
   "cell_type": "code",
   "execution_count": 3,
   "id": "5ac489ea",
   "metadata": {},
   "outputs": [],
   "source": [
    "city = 'Bangalore'"
   ]
  },
  {
   "cell_type": "code",
   "execution_count": 4,
   "id": "634f14ff",
   "metadata": {},
   "outputs": [
    {
     "data": {
      "text/plain": [
       "9"
      ]
     },
     "execution_count": 4,
     "metadata": {},
     "output_type": "execute_result"
    }
   ],
   "source": [
    "len(city)"
   ]
  },
  {
   "cell_type": "code",
   "execution_count": 5,
   "id": "7db9fdfa",
   "metadata": {},
   "outputs": [
    {
     "data": {
      "text/plain": [
       "'B'"
      ]
     },
     "execution_count": 5,
     "metadata": {},
     "output_type": "execute_result"
    }
   ],
   "source": [
    "city[0]"
   ]
  },
  {
   "cell_type": "code",
   "execution_count": 6,
   "id": "a252a6cf",
   "metadata": {},
   "outputs": [
    {
     "data": {
      "text/plain": [
       "'B'"
      ]
     },
     "execution_count": 6,
     "metadata": {},
     "output_type": "execute_result"
    }
   ],
   "source": [
    "city[-9]"
   ]
  },
  {
   "cell_type": "code",
   "execution_count": 7,
   "id": "fa74a08f",
   "metadata": {},
   "outputs": [
    {
     "data": {
      "text/plain": [
       "'e'"
      ]
     },
     "execution_count": 7,
     "metadata": {},
     "output_type": "execute_result"
    }
   ],
   "source": [
    "city[8]"
   ]
  },
  {
   "cell_type": "code",
   "execution_count": 8,
   "id": "1c7ccd5b",
   "metadata": {},
   "outputs": [
    {
     "data": {
      "text/plain": [
       "'e'"
      ]
     },
     "execution_count": 8,
     "metadata": {},
     "output_type": "execute_result"
    }
   ],
   "source": [
    "city[-1]"
   ]
  },
  {
   "cell_type": "code",
   "execution_count": 10,
   "id": "5ee045fb",
   "metadata": {},
   "outputs": [
    {
     "data": {
      "text/plain": [
       "'Bangalore'"
      ]
     },
     "execution_count": 10,
     "metadata": {},
     "output_type": "execute_result"
    }
   ],
   "source": [
    "city"
   ]
  },
  {
   "cell_type": "code",
   "execution_count": 11,
   "id": "9648bf73",
   "metadata": {},
   "outputs": [
    {
     "data": {
      "text/plain": [
       "'g'"
      ]
     },
     "execution_count": 11,
     "metadata": {},
     "output_type": "execute_result"
    }
   ],
   "source": [
    "city[3]"
   ]
  },
  {
   "cell_type": "code",
   "execution_count": 12,
   "id": "142c8801",
   "metadata": {},
   "outputs": [
    {
     "data": {
      "text/plain": [
       "'gal'"
      ]
     },
     "execution_count": 12,
     "metadata": {},
     "output_type": "execute_result"
    }
   ],
   "source": [
    "city[3:6]"
   ]
  },
  {
   "cell_type": "code",
   "execution_count": 14,
   "id": "8cbcbacc",
   "metadata": {},
   "outputs": [
    {
     "data": {
      "text/plain": [
       "'ore'"
      ]
     },
     "execution_count": 14,
     "metadata": {},
     "output_type": "execute_result"
    }
   ],
   "source": [
    "city[6:10]"
   ]
  },
  {
   "cell_type": "code",
   "execution_count": 15,
   "id": "743eeb9f",
   "metadata": {},
   "outputs": [
    {
     "data": {
      "text/plain": [
       "'ore'"
      ]
     },
     "execution_count": 15,
     "metadata": {},
     "output_type": "execute_result"
    }
   ],
   "source": [
    "city[6:]"
   ]
  },
  {
   "cell_type": "code",
   "execution_count": 16,
   "id": "a690dafc",
   "metadata": {},
   "outputs": [
    {
     "data": {
      "text/plain": [
       "'Bangalore'"
      ]
     },
     "execution_count": 16,
     "metadata": {},
     "output_type": "execute_result"
    }
   ],
   "source": [
    "city"
   ]
  },
  {
   "cell_type": "code",
   "execution_count": 17,
   "id": "5cff05b1",
   "metadata": {},
   "outputs": [
    {
     "data": {
      "text/plain": [
       "'Banga'"
      ]
     },
     "execution_count": 17,
     "metadata": {},
     "output_type": "execute_result"
    }
   ],
   "source": [
    "city[:5]"
   ]
  },
  {
   "cell_type": "code",
   "execution_count": 18,
   "id": "1f28957c",
   "metadata": {},
   "outputs": [],
   "source": [
    "str1 = \"Hello World! How Are you today?\""
   ]
  },
  {
   "cell_type": "markdown",
   "id": "ee8521f2",
   "metadata": {},
   "source": [
    "1. Fetch Hello out of str1.\n",
    "2. Fetch How from str1."
   ]
  },
  {
   "cell_type": "code",
   "execution_count": 19,
   "id": "c64f2a88",
   "metadata": {},
   "outputs": [
    {
     "data": {
      "text/plain": [
       "'Hello'"
      ]
     },
     "execution_count": 19,
     "metadata": {},
     "output_type": "execute_result"
    }
   ],
   "source": [
    "str1[:5]"
   ]
  },
  {
   "cell_type": "code",
   "execution_count": 20,
   "id": "f707a890",
   "metadata": {},
   "outputs": [
    {
     "data": {
      "text/plain": [
       "'How'"
      ]
     },
     "execution_count": 20,
     "metadata": {},
     "output_type": "execute_result"
    }
   ],
   "source": [
    "str1[13:16]"
   ]
  },
  {
   "cell_type": "code",
   "execution_count": 21,
   "id": "7cb5fdf9",
   "metadata": {},
   "outputs": [
    {
     "data": {
      "text/plain": [
       "'Bangalore'"
      ]
     },
     "execution_count": 21,
     "metadata": {},
     "output_type": "execute_result"
    }
   ],
   "source": [
    "city"
   ]
  },
  {
   "cell_type": "code",
   "execution_count": 22,
   "id": "276a63c5",
   "metadata": {},
   "outputs": [
    {
     "data": {
      "text/plain": [
       "'Bangalore'"
      ]
     },
     "execution_count": 22,
     "metadata": {},
     "output_type": "execute_result"
    }
   ],
   "source": [
    "city[:]"
   ]
  },
  {
   "cell_type": "code",
   "execution_count": 24,
   "id": "c4ddb687",
   "metadata": {},
   "outputs": [
    {
     "data": {
      "text/plain": [
       "'Bnaoe'"
      ]
     },
     "execution_count": 24,
     "metadata": {},
     "output_type": "execute_result"
    }
   ],
   "source": [
    "city[::2]"
   ]
  },
  {
   "cell_type": "code",
   "execution_count": 25,
   "id": "fcc5c590",
   "metadata": {},
   "outputs": [
    {
     "data": {
      "text/plain": [
       "'Bgo'"
      ]
     },
     "execution_count": 25,
     "metadata": {},
     "output_type": "execute_result"
    }
   ],
   "source": [
    "city[::3]"
   ]
  },
  {
   "cell_type": "markdown",
   "id": "0acdf9eb",
   "metadata": {},
   "source": [
    "# Slicing in String - [ Start : Stop + 1 : Step ]"
   ]
  },
  {
   "cell_type": "code",
   "execution_count": 27,
   "id": "d1842908",
   "metadata": {},
   "outputs": [
    {
     "data": {
      "text/plain": [
       "'Bangalore'"
      ]
     },
     "execution_count": 27,
     "metadata": {},
     "output_type": "execute_result"
    }
   ],
   "source": [
    "city"
   ]
  },
  {
   "cell_type": "markdown",
   "id": "6643e992",
   "metadata": {},
   "source": [
    "1. Fetch aar.\n",
    "2. Fetch glr."
   ]
  },
  {
   "cell_type": "code",
   "execution_count": 29,
   "id": "75fff300",
   "metadata": {},
   "outputs": [
    {
     "data": {
      "text/plain": [
       "'aar'"
      ]
     },
     "execution_count": 29,
     "metadata": {},
     "output_type": "execute_result"
    }
   ],
   "source": [
    "city[1::3]"
   ]
  },
  {
   "cell_type": "code",
   "execution_count": 30,
   "id": "2eab1080",
   "metadata": {},
   "outputs": [
    {
     "data": {
      "text/plain": [
       "'glr'"
      ]
     },
     "execution_count": 30,
     "metadata": {},
     "output_type": "execute_result"
    }
   ],
   "source": [
    "city[3::2]"
   ]
  },
  {
   "cell_type": "code",
   "execution_count": 31,
   "id": "26924a40",
   "metadata": {},
   "outputs": [
    {
     "data": {
      "text/plain": [
       "'Bangalore'"
      ]
     },
     "execution_count": 31,
     "metadata": {},
     "output_type": "execute_result"
    }
   ],
   "source": [
    "city"
   ]
  },
  {
   "cell_type": "code",
   "execution_count": 32,
   "id": "9dd0779e",
   "metadata": {},
   "outputs": [
    {
     "data": {
      "text/plain": [
       "'erolagnaB'"
      ]
     },
     "execution_count": 32,
     "metadata": {},
     "output_type": "execute_result"
    }
   ],
   "source": [
    "city[::-1]"
   ]
  },
  {
   "cell_type": "code",
   "execution_count": 37,
   "id": "c2991ff6",
   "metadata": {},
   "outputs": [
    {
     "data": {
      "text/plain": [
       "'Bangalore'"
      ]
     },
     "execution_count": 37,
     "metadata": {},
     "output_type": "execute_result"
    }
   ],
   "source": [
    "city"
   ]
  },
  {
   "cell_type": "code",
   "execution_count": 33,
   "id": "8dda62ce",
   "metadata": {},
   "outputs": [
    {
     "data": {
      "text/plain": [
       "'Bangalore'"
      ]
     },
     "execution_count": 33,
     "metadata": {},
     "output_type": "execute_result"
    }
   ],
   "source": [
    "city"
   ]
  },
  {
   "cell_type": "code",
   "execution_count": 34,
   "id": "71e9b1a8",
   "metadata": {},
   "outputs": [
    {
     "data": {
      "text/plain": [
       "'BangaloreBangaloreBangalore'"
      ]
     },
     "execution_count": 34,
     "metadata": {},
     "output_type": "execute_result"
    }
   ],
   "source": [
    "city*3"
   ]
  },
  {
   "cell_type": "markdown",
   "id": "51a6c1e8",
   "metadata": {},
   "source": [
    "# Print Statement"
   ]
  },
  {
   "cell_type": "code",
   "execution_count": 40,
   "id": "e741c8fc",
   "metadata": {},
   "outputs": [
    {
     "name": "stdout",
     "output_type": "stream",
     "text": [
      "Hello World!\n"
     ]
    }
   ],
   "source": [
    "print('Hello World!')"
   ]
  },
  {
   "cell_type": "code",
   "execution_count": 41,
   "id": "d6ef52fd",
   "metadata": {
    "scrolled": true
   },
   "outputs": [
    {
     "name": "stdout",
     "output_type": "stream",
     "text": [
      "Hello\n",
      "World!\n"
     ]
    }
   ],
   "source": [
    "print('Hello')\n",
    "print('World!')"
   ]
  },
  {
   "cell_type": "code",
   "execution_count": 42,
   "id": "5a739175",
   "metadata": {},
   "outputs": [
    {
     "name": "stdout",
     "output_type": "stream",
     "text": [
      "HelloWorld!\n"
     ]
    }
   ],
   "source": [
    "print('Hello',end='')\n",
    "print('World!')"
   ]
  },
  {
   "cell_type": "code",
   "execution_count": 44,
   "id": "98d6b0dc",
   "metadata": {},
   "outputs": [
    {
     "name": "stdout",
     "output_type": "stream",
     "text": [
      "Hello\n",
      "World!\n"
     ]
    }
   ],
   "source": [
    "print('Hello',end='\\n')\n",
    "print('World!')"
   ]
  },
  {
   "cell_type": "code",
   "execution_count": 45,
   "id": "09330f8f",
   "metadata": {},
   "outputs": [
    {
     "name": "stdout",
     "output_type": "stream",
     "text": [
      "Hello$World!\n"
     ]
    }
   ],
   "source": [
    "print('Hello',end='$')\n",
    "print('World!')"
   ]
  },
  {
   "cell_type": "code",
   "execution_count": 46,
   "id": "31654069",
   "metadata": {},
   "outputs": [
    {
     "name": "stdout",
     "output_type": "stream",
     "text": [
      "Hello World!\n"
     ]
    }
   ],
   "source": [
    "print('Hello',end=' ')\n",
    "print('World!')"
   ]
  },
  {
   "cell_type": "code",
   "execution_count": 48,
   "id": "bb9eb4d4",
   "metadata": {},
   "outputs": [
    {
     "name": "stdout",
     "output_type": "stream",
     "text": [
      "Hello \n",
      "World\n"
     ]
    }
   ],
   "source": [
    "print('Hello \\nWorld')"
   ]
  },
  {
   "cell_type": "code",
   "execution_count": 50,
   "id": "c9bb2a21",
   "metadata": {},
   "outputs": [
    {
     "name": "stdout",
     "output_type": "stream",
     "text": [
      "Hello\n",
      "\n",
      "\n",
      "\n",
      "World\n"
     ]
    }
   ],
   "source": [
    "print('Hello\\n\\n\\n\\nWorld')"
   ]
  },
  {
   "cell_type": "code",
   "execution_count": 51,
   "id": "cda724a0",
   "metadata": {},
   "outputs": [
    {
     "name": "stdout",
     "output_type": "stream",
     "text": [
      "Hello World!\n",
      "How are you today?\n"
     ]
    }
   ],
   "source": [
    "print('Hello World!\\nHow are you today?')"
   ]
  },
  {
   "cell_type": "markdown",
   "id": "be6da661",
   "metadata": {},
   "source": [
    "### print with sep"
   ]
  },
  {
   "cell_type": "code",
   "execution_count": 52,
   "id": "be52654b",
   "metadata": {},
   "outputs": [],
   "source": [
    "age = 30"
   ]
  },
  {
   "cell_type": "code",
   "execution_count": 53,
   "id": "a171b970",
   "metadata": {},
   "outputs": [
    {
     "name": "stdout",
     "output_type": "stream",
     "text": [
      "My age is 30\n"
     ]
    }
   ],
   "source": [
    "print('My age is',age)"
   ]
  },
  {
   "cell_type": "code",
   "execution_count": 54,
   "id": "bc5e971c",
   "metadata": {},
   "outputs": [
    {
     "name": "stdout",
     "output_type": "stream",
     "text": [
      "My age is:30\n"
     ]
    }
   ],
   "source": [
    "print('My age is',age,sep=':')"
   ]
  },
  {
   "cell_type": "code",
   "execution_count": 55,
   "id": "13611605",
   "metadata": {},
   "outputs": [
    {
     "name": "stdout",
     "output_type": "stream",
     "text": [
      "First Name Aniruddha\n"
     ]
    }
   ],
   "source": [
    "name = 'Aniruddha'\n",
    "print('First Name',name)"
   ]
  },
  {
   "cell_type": "code",
   "execution_count": 57,
   "id": "1052e427",
   "metadata": {},
   "outputs": [
    {
     "name": "stdout",
     "output_type": "stream",
     "text": [
      "First Name : Aniruddha\n"
     ]
    }
   ],
   "source": [
    "name = 'Aniruddha'\n",
    "print('First Name',name,sep=' : ')"
   ]
  },
  {
   "cell_type": "markdown",
   "id": "ec8640f7",
   "metadata": {},
   "source": [
    "# User Input / Input Statement "
   ]
  },
  {
   "cell_type": "code",
   "execution_count": 60,
   "id": "b7b3aa99",
   "metadata": {},
   "outputs": [
    {
     "name": "stdout",
     "output_type": "stream",
     "text": [
      "Please enter your name Manoj\n"
     ]
    }
   ],
   "source": [
    "name = input(\"Please enter your name \")"
   ]
  },
  {
   "cell_type": "code",
   "execution_count": 61,
   "id": "f2441d37",
   "metadata": {},
   "outputs": [
    {
     "name": "stdout",
     "output_type": "stream",
     "text": [
      "Manoj\n"
     ]
    }
   ],
   "source": [
    "print(name)"
   ]
  },
  {
   "cell_type": "code",
   "execution_count": 63,
   "id": "5ca895cf",
   "metadata": {},
   "outputs": [
    {
     "name": "stdout",
     "output_type": "stream",
     "text": [
      "Please enter your name Priya\n",
      "Hello Priya \n",
      "How are you today?\n"
     ]
    }
   ],
   "source": [
    "name = input(\"Please enter your name \")\n",
    "print('Hello',name,'\\nHow are you today?')"
   ]
  },
  {
   "cell_type": "code",
   "execution_count": 64,
   "id": "c08cdbf8",
   "metadata": {},
   "outputs": [
    {
     "name": "stdout",
     "output_type": "stream",
     "text": [
      "Please enter your age 30\n",
      "The users age is 30\n"
     ]
    }
   ],
   "source": [
    "age = input(\"Please enter your age \")\n",
    "print('The users age is',age)"
   ]
  },
  {
   "cell_type": "code",
   "execution_count": 65,
   "id": "d937fa07",
   "metadata": {},
   "outputs": [],
   "source": [
    "age = 15"
   ]
  },
  {
   "cell_type": "code",
   "execution_count": 66,
   "id": "a9663e1b",
   "metadata": {},
   "outputs": [
    {
     "data": {
      "text/plain": [
       "15"
      ]
     },
     "execution_count": 66,
     "metadata": {},
     "output_type": "execute_result"
    }
   ],
   "source": [
    "age"
   ]
  },
  {
   "cell_type": "code",
   "execution_count": 67,
   "id": "0b41f015",
   "metadata": {},
   "outputs": [
    {
     "data": {
      "text/plain": [
       "25"
      ]
     },
     "execution_count": 67,
     "metadata": {},
     "output_type": "execute_result"
    }
   ],
   "source": [
    "age + 10"
   ]
  },
  {
   "cell_type": "markdown",
   "id": "1c8a21c9",
   "metadata": {},
   "source": [
    "# Q.1 Ask user his age and print age after 10 years with current age."
   ]
  },
  {
   "cell_type": "markdown",
   "id": "a20b44e5",
   "metadata": {},
   "source": [
    "'Current age is 10 and age after 10 years will be 20.'"
   ]
  },
  {
   "cell_type": "code",
   "execution_count": 68,
   "id": "072185da",
   "metadata": {},
   "outputs": [
    {
     "name": "stdout",
     "output_type": "stream",
     "text": [
      "Please enter your age30\n",
      "<class 'str'>\n"
     ]
    }
   ],
   "source": [
    "age = input('Please enter your age')\n",
    "print(type(age))"
   ]
  },
  {
   "cell_type": "code",
   "execution_count": 69,
   "id": "bf41cf6c",
   "metadata": {},
   "outputs": [
    {
     "data": {
      "text/plain": [
       "'30'"
      ]
     },
     "execution_count": 69,
     "metadata": {},
     "output_type": "execute_result"
    }
   ],
   "source": [
    "age"
   ]
  },
  {
   "cell_type": "code",
   "execution_count": 70,
   "id": "779d0ba7",
   "metadata": {},
   "outputs": [
    {
     "name": "stdout",
     "output_type": "stream",
     "text": [
      "Please enter your age40\n"
     ]
    },
    {
     "ename": "TypeError",
     "evalue": "can only concatenate str (not \"int\") to str",
     "output_type": "error",
     "traceback": [
      "\u001b[0;31m---------------------------------------------------------------------------\u001b[0m",
      "\u001b[0;31mTypeError\u001b[0m                                 Traceback (most recent call last)",
      "\u001b[0;32m<ipython-input-70-b50c3cb4d251>\u001b[0m in \u001b[0;36m<module>\u001b[0;34m\u001b[0m\n\u001b[1;32m      1\u001b[0m \u001b[0mage\u001b[0m \u001b[0;34m=\u001b[0m \u001b[0minput\u001b[0m\u001b[0;34m(\u001b[0m\u001b[0;34m'Please enter your age'\u001b[0m\u001b[0;34m)\u001b[0m\u001b[0;34m\u001b[0m\u001b[0;34m\u001b[0m\u001b[0m\n\u001b[0;32m----> 2\u001b[0;31m \u001b[0mprint\u001b[0m\u001b[0;34m(\u001b[0m\u001b[0mage\u001b[0m\u001b[0;34m+\u001b[0m\u001b[0;36m10\u001b[0m\u001b[0;34m)\u001b[0m\u001b[0;34m\u001b[0m\u001b[0;34m\u001b[0m\u001b[0m\n\u001b[0m",
      "\u001b[0;31mTypeError\u001b[0m: can only concatenate str (not \"int\") to str"
     ]
    }
   ],
   "source": [
    "age = input('Please enter your age')\n",
    "print(age+10)"
   ]
  },
  {
   "cell_type": "code",
   "execution_count": 74,
   "id": "46f1226f",
   "metadata": {},
   "outputs": [
    {
     "name": "stdout",
     "output_type": "stream",
     "text": [
      "Please enter your age 20\n",
      "Current age is 20 Age after 10 years will be 30\n"
     ]
    }
   ],
   "source": [
    "age = int(input('Please enter your age '))\n",
    "print(\"Current age is\",age,\"Age after 10 years will be\",age+10)"
   ]
  },
  {
   "cell_type": "markdown",
   "id": "63254fc2",
   "metadata": {},
   "source": [
    "## Note : Input will always store data in Strings."
   ]
  },
  {
   "cell_type": "markdown",
   "id": "5cf622c9",
   "metadata": {},
   "source": [
    "# Arithmatic Operators"
   ]
  },
  {
   "cell_type": "code",
   "execution_count": 75,
   "id": "8fb4cc3a",
   "metadata": {},
   "outputs": [],
   "source": [
    "a = 10\n",
    "b = 5"
   ]
  },
  {
   "cell_type": "code",
   "execution_count": 76,
   "id": "92017509",
   "metadata": {},
   "outputs": [
    {
     "name": "stdout",
     "output_type": "stream",
     "text": [
      "Sum is 15\n"
     ]
    }
   ],
   "source": [
    "print('Sum is',a+b)"
   ]
  },
  {
   "cell_type": "code",
   "execution_count": 77,
   "id": "4436c195",
   "metadata": {},
   "outputs": [
    {
     "name": "stdout",
     "output_type": "stream",
     "text": [
      "Difference is 5\n"
     ]
    }
   ],
   "source": [
    "print('Difference is',a-b)"
   ]
  },
  {
   "cell_type": "code",
   "execution_count": 78,
   "id": "9f92c580",
   "metadata": {},
   "outputs": [
    {
     "name": "stdout",
     "output_type": "stream",
     "text": [
      "Multiplication is 50\n"
     ]
    }
   ],
   "source": [
    "print('Multiplication is',a*b)"
   ]
  },
  {
   "cell_type": "code",
   "execution_count": 79,
   "id": "0ac9365b",
   "metadata": {},
   "outputs": [
    {
     "name": "stdout",
     "output_type": "stream",
     "text": [
      "Division of a and b 2.0\n"
     ]
    }
   ],
   "source": [
    "print('Division of a and b',a/b)"
   ]
  },
  {
   "cell_type": "code",
   "execution_count": 81,
   "id": "5efbd450",
   "metadata": {},
   "outputs": [
    {
     "name": "stdout",
     "output_type": "stream",
     "text": [
      "Division of a and b 3.5\n"
     ]
    }
   ],
   "source": [
    "a = 7\n",
    "b = 2\n",
    "print('Division of a and b',a/b)"
   ]
  },
  {
   "cell_type": "code",
   "execution_count": 83,
   "id": "d68b1170",
   "metadata": {},
   "outputs": [
    {
     "name": "stdout",
     "output_type": "stream",
     "text": [
      "Floor of a and b 3\n"
     ]
    }
   ],
   "source": [
    "a = 7\n",
    "b = 2\n",
    "print('Floor of a and b',a//b)"
   ]
  },
  {
   "cell_type": "code",
   "execution_count": 84,
   "id": "ee5e871c",
   "metadata": {},
   "outputs": [
    {
     "name": "stdout",
     "output_type": "stream",
     "text": [
      "1\n"
     ]
    }
   ],
   "source": [
    "print(a%b) # Prints reminder of a divided by b."
   ]
  },
  {
   "cell_type": "code",
   "execution_count": 85,
   "id": "f497264a",
   "metadata": {},
   "outputs": [
    {
     "data": {
      "text/plain": [
       "2"
      ]
     },
     "execution_count": 85,
     "metadata": {},
     "output_type": "execute_result"
    }
   ],
   "source": [
    "9 % 7"
   ]
  },
  {
   "cell_type": "code",
   "execution_count": 87,
   "id": "a030793e",
   "metadata": {},
   "outputs": [
    {
     "name": "stdout",
     "output_type": "stream",
     "text": [
      "2 to the power of 3 is 8\n"
     ]
    }
   ],
   "source": [
    "a = 2\n",
    "b = 3\n",
    "print(a,'to the power of',b,'is',a**b)"
   ]
  },
  {
   "cell_type": "code",
   "execution_count": 88,
   "id": "e652c7cc",
   "metadata": {},
   "outputs": [
    {
     "name": "stdout",
     "output_type": "stream",
     "text": [
      "2 to the power of 4 is 16\n"
     ]
    }
   ],
   "source": [
    "a = 2\n",
    "b = 4\n",
    "print(a,'to the power of',b,'is',a**b)"
   ]
  },
  {
   "cell_type": "markdown",
   "id": "63df65cf",
   "metadata": {},
   "source": [
    "# BODMAS  \n",
    "B - Brackets\n",
    "O - Order\n",
    "D - Division\n",
    "M - Multiplication\n",
    "A - Addition\n",
    "S - Subtraction"
   ]
  },
  {
   "cell_type": "code",
   "execution_count": 90,
   "id": "530bfa0c",
   "metadata": {},
   "outputs": [
    {
     "data": {
      "text/plain": [
       "45"
      ]
     },
     "execution_count": 90,
     "metadata": {},
     "output_type": "execute_result"
    }
   ],
   "source": [
    "(10 + 5) * 3"
   ]
  },
  {
   "cell_type": "code",
   "execution_count": 91,
   "id": "ccaf5b14",
   "metadata": {},
   "outputs": [
    {
     "data": {
      "text/plain": [
       "25"
      ]
     },
     "execution_count": 91,
     "metadata": {},
     "output_type": "execute_result"
    }
   ],
   "source": [
    "10 + 5 * 3"
   ]
  },
  {
   "cell_type": "markdown",
   "id": "eee9c9c4",
   "metadata": {},
   "source": [
    "# Relational Operators "
   ]
  },
  {
   "cell_type": "code",
   "execution_count": 92,
   "id": "f5e71191",
   "metadata": {},
   "outputs": [],
   "source": [
    "a = 10 \n",
    "b = 5"
   ]
  },
  {
   "cell_type": "code",
   "execution_count": 93,
   "id": "f8fe50d8",
   "metadata": {},
   "outputs": [
    {
     "data": {
      "text/plain": [
       "False"
      ]
     },
     "execution_count": 93,
     "metadata": {},
     "output_type": "execute_result"
    }
   ],
   "source": [
    "a < b"
   ]
  },
  {
   "cell_type": "code",
   "execution_count": 98,
   "id": "c594999d",
   "metadata": {},
   "outputs": [
    {
     "data": {
      "text/plain": [
       "True"
      ]
     },
     "execution_count": 98,
     "metadata": {},
     "output_type": "execute_result"
    }
   ],
   "source": [
    "a > b"
   ]
  },
  {
   "cell_type": "code",
   "execution_count": 95,
   "id": "8fb03a7a",
   "metadata": {},
   "outputs": [
    {
     "data": {
      "text/plain": [
       "False"
      ]
     },
     "execution_count": 95,
     "metadata": {},
     "output_type": "execute_result"
    }
   ],
   "source": [
    "a <= b"
   ]
  },
  {
   "cell_type": "code",
   "execution_count": 96,
   "id": "7ed13f8a",
   "metadata": {},
   "outputs": [
    {
     "data": {
      "text/plain": [
       "True"
      ]
     },
     "execution_count": 96,
     "metadata": {},
     "output_type": "execute_result"
    }
   ],
   "source": [
    "a >= b"
   ]
  },
  {
   "cell_type": "code",
   "execution_count": 97,
   "id": "dd915670",
   "metadata": {},
   "outputs": [
    {
     "data": {
      "text/plain": [
       "False"
      ]
     },
     "execution_count": 97,
     "metadata": {},
     "output_type": "execute_result"
    }
   ],
   "source": [
    "a == b"
   ]
  },
  {
   "cell_type": "code",
   "execution_count": 99,
   "id": "5863eb0e",
   "metadata": {},
   "outputs": [
    {
     "data": {
      "text/plain": [
       "True"
      ]
     },
     "execution_count": 99,
     "metadata": {},
     "output_type": "execute_result"
    }
   ],
   "source": [
    "a != b"
   ]
  },
  {
   "cell_type": "code",
   "execution_count": 102,
   "id": "310c4b1a",
   "metadata": {},
   "outputs": [],
   "source": [
    "a = 10\n",
    "b = 10"
   ]
  },
  {
   "cell_type": "code",
   "execution_count": 103,
   "id": "69554a30",
   "metadata": {},
   "outputs": [
    {
     "data": {
      "text/plain": [
       "True"
      ]
     },
     "execution_count": 103,
     "metadata": {},
     "output_type": "execute_result"
    }
   ],
   "source": [
    "a == b"
   ]
  },
  {
   "cell_type": "code",
   "execution_count": 104,
   "id": "9a5fa46e",
   "metadata": {},
   "outputs": [
    {
     "data": {
      "text/plain": [
       "False"
      ]
     },
     "execution_count": 104,
     "metadata": {},
     "output_type": "execute_result"
    }
   ],
   "source": [
    "a != b"
   ]
  },
  {
   "cell_type": "code",
   "execution_count": 105,
   "id": "29a37305",
   "metadata": {},
   "outputs": [
    {
     "data": {
      "text/plain": [
       "True"
      ]
     },
     "execution_count": 105,
     "metadata": {},
     "output_type": "execute_result"
    }
   ],
   "source": [
    "'India' == 'India'"
   ]
  },
  {
   "cell_type": "code",
   "execution_count": 106,
   "id": "28770881",
   "metadata": {},
   "outputs": [
    {
     "data": {
      "text/plain": [
       "False"
      ]
     },
     "execution_count": 106,
     "metadata": {},
     "output_type": "execute_result"
    }
   ],
   "source": [
    "'A' == 'a'"
   ]
  },
  {
   "cell_type": "code",
   "execution_count": 107,
   "id": "fe5197e6",
   "metadata": {},
   "outputs": [
    {
     "data": {
      "text/plain": [
       "False"
      ]
     },
     "execution_count": 107,
     "metadata": {},
     "output_type": "execute_result"
    }
   ],
   "source": [
    "10 == '10'"
   ]
  },
  {
   "cell_type": "markdown",
   "id": "419f6026",
   "metadata": {},
   "source": [
    "# Assignemnt Operator "
   ]
  },
  {
   "cell_type": "code",
   "execution_count": 108,
   "id": "3198f25f",
   "metadata": {},
   "outputs": [],
   "source": [
    "a = 10"
   ]
  },
  {
   "cell_type": "code",
   "execution_count": 110,
   "id": "7ced5761",
   "metadata": {},
   "outputs": [],
   "source": [
    "a = a + 5"
   ]
  },
  {
   "cell_type": "code",
   "execution_count": 111,
   "id": "7402f675",
   "metadata": {},
   "outputs": [
    {
     "name": "stdout",
     "output_type": "stream",
     "text": [
      "15\n"
     ]
    }
   ],
   "source": [
    "print(a)"
   ]
  },
  {
   "cell_type": "code",
   "execution_count": 112,
   "id": "e8a081b5",
   "metadata": {},
   "outputs": [],
   "source": [
    "a = 10"
   ]
  },
  {
   "cell_type": "code",
   "execution_count": 113,
   "id": "a1b7ab62",
   "metadata": {},
   "outputs": [],
   "source": [
    "a +=5 # a = a + 5"
   ]
  },
  {
   "cell_type": "code",
   "execution_count": 114,
   "id": "8b57a51f",
   "metadata": {},
   "outputs": [
    {
     "name": "stdout",
     "output_type": "stream",
     "text": [
      "15\n"
     ]
    }
   ],
   "source": [
    "print(a)"
   ]
  },
  {
   "cell_type": "code",
   "execution_count": 115,
   "id": "78ccfccb",
   "metadata": {},
   "outputs": [
    {
     "name": "stdout",
     "output_type": "stream",
     "text": [
      "2\n"
     ]
    }
   ],
   "source": [
    "a = 5\n",
    "a -=3 # a = a - 3\n",
    "print(a)"
   ]
  },
  {
   "cell_type": "code",
   "execution_count": 116,
   "id": "56fcbb97",
   "metadata": {},
   "outputs": [
    {
     "name": "stdout",
     "output_type": "stream",
     "text": [
      "6\n"
     ]
    }
   ],
   "source": [
    "a = 2\n",
    "a *=3 # a = a * 3\n",
    "print(a)"
   ]
  },
  {
   "cell_type": "code",
   "execution_count": 117,
   "id": "1f3a979b",
   "metadata": {},
   "outputs": [
    {
     "name": "stdout",
     "output_type": "stream",
     "text": [
      "8\n"
     ]
    }
   ],
   "source": [
    "a = 2\n",
    "a **=3 # a = a ** 3\n",
    "print(a)"
   ]
  },
  {
   "cell_type": "markdown",
   "id": "28867849",
   "metadata": {},
   "source": [
    "# Logical Operator "
   ]
  },
  {
   "cell_type": "markdown",
   "id": "36d6af5d",
   "metadata": {},
   "source": [
    "1. and\n",
    "2. or\n",
    "3. not"
   ]
  },
  {
   "cell_type": "code",
   "execution_count": 119,
   "id": "7f742211",
   "metadata": {},
   "outputs": [],
   "source": [
    "age = 40"
   ]
  },
  {
   "cell_type": "code",
   "execution_count": 120,
   "id": "ac849d75",
   "metadata": {},
   "outputs": [
    {
     "data": {
      "text/plain": [
       "True"
      ]
     },
     "execution_count": 120,
     "metadata": {},
     "output_type": "execute_result"
    }
   ],
   "source": [
    "(age < 50) and (age > 18)"
   ]
  },
  {
   "cell_type": "code",
   "execution_count": 122,
   "id": "99b6d3b2",
   "metadata": {},
   "outputs": [],
   "source": [
    "age = 15"
   ]
  },
  {
   "cell_type": "code",
   "execution_count": 123,
   "id": "0bc0d408",
   "metadata": {},
   "outputs": [
    {
     "data": {
      "text/plain": [
       "False"
      ]
     },
     "execution_count": 123,
     "metadata": {},
     "output_type": "execute_result"
    }
   ],
   "source": [
    "(age < 50) and (age > 18)"
   ]
  },
  {
   "cell_type": "code",
   "execution_count": 124,
   "id": "53dade8b",
   "metadata": {},
   "outputs": [],
   "source": [
    "age = 150"
   ]
  },
  {
   "cell_type": "code",
   "execution_count": 125,
   "id": "9bc8ca92",
   "metadata": {},
   "outputs": [
    {
     "data": {
      "text/plain": [
       "False"
      ]
     },
     "execution_count": 125,
     "metadata": {},
     "output_type": "execute_result"
    }
   ],
   "source": [
    "(age < 50) and (age > 18)"
   ]
  },
  {
   "cell_type": "markdown",
   "id": "fdfba6be",
   "metadata": {},
   "source": [
    "# Boolans"
   ]
  },
  {
   "cell_type": "code",
   "execution_count": 126,
   "id": "203f6e76",
   "metadata": {},
   "outputs": [],
   "source": [
    "a = True\n",
    "b = True"
   ]
  },
  {
   "cell_type": "code",
   "execution_count": 127,
   "id": "c6aa7447",
   "metadata": {},
   "outputs": [
    {
     "data": {
      "text/plain": [
       "True"
      ]
     },
     "execution_count": 127,
     "metadata": {},
     "output_type": "execute_result"
    }
   ],
   "source": [
    "a and b"
   ]
  },
  {
   "cell_type": "code",
   "execution_count": 128,
   "id": "5c54ba68",
   "metadata": {},
   "outputs": [
    {
     "data": {
      "text/plain": [
       "True"
      ]
     },
     "execution_count": 128,
     "metadata": {},
     "output_type": "execute_result"
    }
   ],
   "source": [
    "a or b"
   ]
  },
  {
   "cell_type": "code",
   "execution_count": 129,
   "id": "6c7e874b",
   "metadata": {},
   "outputs": [],
   "source": [
    "a = False\n",
    "b = False"
   ]
  },
  {
   "cell_type": "code",
   "execution_count": 130,
   "id": "5b794362",
   "metadata": {},
   "outputs": [
    {
     "data": {
      "text/plain": [
       "False"
      ]
     },
     "execution_count": 130,
     "metadata": {},
     "output_type": "execute_result"
    }
   ],
   "source": [
    "a and b"
   ]
  },
  {
   "cell_type": "code",
   "execution_count": 131,
   "id": "571256f9",
   "metadata": {},
   "outputs": [
    {
     "data": {
      "text/plain": [
       "False"
      ]
     },
     "execution_count": 131,
     "metadata": {},
     "output_type": "execute_result"
    }
   ],
   "source": [
    "a or b"
   ]
  },
  {
   "cell_type": "code",
   "execution_count": 132,
   "id": "622f9915",
   "metadata": {},
   "outputs": [],
   "source": [
    "a = True\n",
    "b = False"
   ]
  },
  {
   "cell_type": "code",
   "execution_count": 133,
   "id": "363a781b",
   "metadata": {},
   "outputs": [
    {
     "data": {
      "text/plain": [
       "False"
      ]
     },
     "execution_count": 133,
     "metadata": {},
     "output_type": "execute_result"
    }
   ],
   "source": [
    "a and b"
   ]
  },
  {
   "cell_type": "code",
   "execution_count": 134,
   "id": "06b3b01f",
   "metadata": {},
   "outputs": [
    {
     "data": {
      "text/plain": [
       "True"
      ]
     },
     "execution_count": 134,
     "metadata": {},
     "output_type": "execute_result"
    }
   ],
   "source": [
    "a or b"
   ]
  },
  {
   "cell_type": "code",
   "execution_count": 135,
   "id": "cda3f2f9",
   "metadata": {},
   "outputs": [],
   "source": [
    "a = False\n",
    "b = True"
   ]
  },
  {
   "cell_type": "code",
   "execution_count": 136,
   "id": "e72486d4",
   "metadata": {},
   "outputs": [
    {
     "data": {
      "text/plain": [
       "False"
      ]
     },
     "execution_count": 136,
     "metadata": {},
     "output_type": "execute_result"
    }
   ],
   "source": [
    "a and b"
   ]
  },
  {
   "cell_type": "code",
   "execution_count": 137,
   "id": "154f0761",
   "metadata": {},
   "outputs": [
    {
     "data": {
      "text/plain": [
       "True"
      ]
     },
     "execution_count": 137,
     "metadata": {},
     "output_type": "execute_result"
    }
   ],
   "source": [
    "a or b"
   ]
  },
  {
   "cell_type": "markdown",
   "id": "633443c3",
   "metadata": {},
   "source": [
    "# Note :\n",
    "* For and to be true both the conditions should be true\n",
    "* For or to be false both the conditions should be false."
   ]
  },
  {
   "cell_type": "code",
   "execution_count": 138,
   "id": "31933b07",
   "metadata": {},
   "outputs": [
    {
     "data": {
      "text/plain": [
       "False"
      ]
     },
     "execution_count": 138,
     "metadata": {},
     "output_type": "execute_result"
    }
   ],
   "source": [
    "not True"
   ]
  },
  {
   "cell_type": "code",
   "execution_count": 139,
   "id": "b84ab4b3",
   "metadata": {},
   "outputs": [
    {
     "data": {
      "text/plain": [
       "True"
      ]
     },
     "execution_count": 139,
     "metadata": {},
     "output_type": "execute_result"
    }
   ],
   "source": [
    "not False"
   ]
  },
  {
   "cell_type": "code",
   "execution_count": 140,
   "id": "ef5761a7",
   "metadata": {},
   "outputs": [
    {
     "data": {
      "text/plain": [
       "True"
      ]
     },
     "execution_count": 140,
     "metadata": {},
     "output_type": "execute_result"
    }
   ],
   "source": [
    "age = 15\n",
    "not (age > 18)"
   ]
  },
  {
   "cell_type": "markdown",
   "id": "d2ff37ac",
   "metadata": {},
   "source": [
    "# Membership operator"
   ]
  },
  {
   "cell_type": "markdown",
   "id": "3b571120",
   "metadata": {},
   "source": [
    "1. in \n",
    "2. not in"
   ]
  },
  {
   "cell_type": "code",
   "execution_count": 142,
   "id": "3eb5bcc7",
   "metadata": {},
   "outputs": [
    {
     "data": {
      "text/plain": [
       "False"
      ]
     },
     "execution_count": 142,
     "metadata": {},
     "output_type": "execute_result"
    }
   ],
   "source": [
    "'B' in 'bangalore'"
   ]
  },
  {
   "cell_type": "code",
   "execution_count": 143,
   "id": "f2ed57fe",
   "metadata": {},
   "outputs": [
    {
     "data": {
      "text/plain": [
       "True"
      ]
     },
     "execution_count": 143,
     "metadata": {},
     "output_type": "execute_result"
    }
   ],
   "source": [
    "'B' in 'Bangalore'"
   ]
  },
  {
   "cell_type": "code",
   "execution_count": 144,
   "id": "fea174e8",
   "metadata": {},
   "outputs": [
    {
     "data": {
      "text/plain": [
       "True"
      ]
     },
     "execution_count": 144,
     "metadata": {},
     "output_type": "execute_result"
    }
   ],
   "source": [
    "'B' not in 'bangalore'"
   ]
  },
  {
   "cell_type": "code",
   "execution_count": 145,
   "id": "8b1f5a4a",
   "metadata": {},
   "outputs": [
    {
     "data": {
      "text/plain": [
       "False"
      ]
     },
     "execution_count": 145,
     "metadata": {},
     "output_type": "execute_result"
    }
   ],
   "source": [
    "'B' not in 'Bangalore'"
   ]
  },
  {
   "cell_type": "code",
   "execution_count": null,
   "id": "4b290f34",
   "metadata": {},
   "outputs": [],
   "source": []
  }
 ],
 "metadata": {
  "kernelspec": {
   "display_name": "Python 3",
   "language": "python",
   "name": "python3"
  },
  "language_info": {
   "codemirror_mode": {
    "name": "ipython",
    "version": 3
   },
   "file_extension": ".py",
   "mimetype": "text/x-python",
   "name": "python",
   "nbconvert_exporter": "python",
   "pygments_lexer": "ipython3",
   "version": "3.8.8"
  }
 },
 "nbformat": 4,
 "nbformat_minor": 5
}
