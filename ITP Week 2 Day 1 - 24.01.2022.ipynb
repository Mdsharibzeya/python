{
 "cells": [
  {
   "cell_type": "markdown",
   "id": "7a8ee597",
   "metadata": {},
   "source": [
    "# Doubt Question"
   ]
  },
  {
   "cell_type": "code",
   "execution_count": 1,
   "id": "af006941",
   "metadata": {},
   "outputs": [
    {
     "data": {
      "text/plain": [
       "5"
      ]
     },
     "execution_count": 1,
     "metadata": {},
     "output_type": "execute_result"
    }
   ],
   "source": [
    "abs(5)"
   ]
  },
  {
   "cell_type": "code",
   "execution_count": 2,
   "id": "7d7c455b",
   "metadata": {},
   "outputs": [
    {
     "data": {
      "text/plain": [
       "1"
      ]
     },
     "execution_count": 2,
     "metadata": {},
     "output_type": "execute_result"
    }
   ],
   "source": [
    "abs(-1)"
   ]
  },
  {
   "cell_type": "code",
   "execution_count": 3,
   "id": "d27ca74e",
   "metadata": {},
   "outputs": [
    {
     "data": {
      "text/plain": [
       "100"
      ]
     },
     "execution_count": 3,
     "metadata": {},
     "output_type": "execute_result"
    }
   ],
   "source": [
    "abs(-100)"
   ]
  },
  {
   "cell_type": "markdown",
   "id": "9e778fcd",
   "metadata": {},
   "source": [
    "# Bitwise Operator "
   ]
  },
  {
   "cell_type": "markdown",
   "id": "ca18aa87",
   "metadata": {},
   "source": [
    "- Bitwise And - &\n",
    "- Bitwise Or - |"
   ]
  },
  {
   "cell_type": "code",
   "execution_count": 4,
   "id": "082946a7",
   "metadata": {},
   "outputs": [
    {
     "data": {
      "text/plain": [
       "'0b11'"
      ]
     },
     "execution_count": 4,
     "metadata": {},
     "output_type": "execute_result"
    }
   ],
   "source": [
    "bin(3)"
   ]
  },
  {
   "cell_type": "code",
   "execution_count": 6,
   "id": "84a4d231",
   "metadata": {},
   "outputs": [
    {
     "data": {
      "text/plain": [
       "'0b1011'"
      ]
     },
     "execution_count": 6,
     "metadata": {},
     "output_type": "execute_result"
    }
   ],
   "source": [
    "bin(11)"
   ]
  },
  {
   "cell_type": "code",
   "execution_count": 7,
   "id": "cbbd53ec",
   "metadata": {},
   "outputs": [
    {
     "data": {
      "text/plain": [
       "3"
      ]
     },
     "execution_count": 7,
     "metadata": {},
     "output_type": "execute_result"
    }
   ],
   "source": [
    "int(0b0011)"
   ]
  },
  {
   "cell_type": "code",
   "execution_count": 8,
   "id": "7343132c",
   "metadata": {},
   "outputs": [],
   "source": [
    "a = 3\n",
    "b = 11"
   ]
  },
  {
   "cell_type": "code",
   "execution_count": 9,
   "id": "8f8b3c0f",
   "metadata": {},
   "outputs": [
    {
     "data": {
      "text/plain": [
       "3"
      ]
     },
     "execution_count": 9,
     "metadata": {},
     "output_type": "execute_result"
    }
   ],
   "source": [
    "a & b"
   ]
  },
  {
   "cell_type": "code",
   "execution_count": 10,
   "id": "b77d0988",
   "metadata": {},
   "outputs": [
    {
     "data": {
      "text/plain": [
       "11"
      ]
     },
     "execution_count": 10,
     "metadata": {},
     "output_type": "execute_result"
    }
   ],
   "source": [
    "a | b"
   ]
  },
  {
   "cell_type": "markdown",
   "id": "0fe9f289",
   "metadata": {},
   "source": [
    "# Sequences in Python "
   ]
  },
  {
   "cell_type": "markdown",
   "id": "8150186e",
   "metadata": {},
   "source": [
    "1. List \n",
    "2. Tuple\n",
    "3. Dict\n",
    "4. Set"
   ]
  },
  {
   "cell_type": "code",
   "execution_count": 11,
   "id": "2f14b7e3",
   "metadata": {},
   "outputs": [],
   "source": [
    "l1 = [1,2,3,4]"
   ]
  },
  {
   "cell_type": "code",
   "execution_count": 12,
   "id": "675274a4",
   "metadata": {},
   "outputs": [
    {
     "data": {
      "text/plain": [
       "[1, 2, 3, 4]"
      ]
     },
     "execution_count": 12,
     "metadata": {},
     "output_type": "execute_result"
    }
   ],
   "source": [
    "l1"
   ]
  },
  {
   "cell_type": "code",
   "execution_count": 13,
   "id": "39936602",
   "metadata": {},
   "outputs": [
    {
     "name": "stdout",
     "output_type": "stream",
     "text": [
      "[1, 2, 3, 4]\n"
     ]
    }
   ],
   "source": [
    "print(l1)"
   ]
  },
  {
   "cell_type": "code",
   "execution_count": 14,
   "id": "af124b21",
   "metadata": {},
   "outputs": [
    {
     "data": {
      "text/plain": [
       "list"
      ]
     },
     "execution_count": 14,
     "metadata": {},
     "output_type": "execute_result"
    }
   ],
   "source": [
    "type(l1)"
   ]
  },
  {
   "cell_type": "code",
   "execution_count": 15,
   "id": "ed5b0de2",
   "metadata": {},
   "outputs": [
    {
     "name": "stdout",
     "output_type": "stream",
     "text": [
      "<class 'list'>\n"
     ]
    }
   ],
   "source": [
    "print(type(l1))"
   ]
  },
  {
   "cell_type": "code",
   "execution_count": 16,
   "id": "11a9039a",
   "metadata": {},
   "outputs": [],
   "source": [
    "l2 = [1.0,2.2,3.0]"
   ]
  },
  {
   "cell_type": "code",
   "execution_count": 17,
   "id": "fe4b5cf3",
   "metadata": {},
   "outputs": [
    {
     "data": {
      "text/plain": [
       "list"
      ]
     },
     "execution_count": 17,
     "metadata": {},
     "output_type": "execute_result"
    }
   ],
   "source": [
    "type(l2)"
   ]
  },
  {
   "cell_type": "code",
   "execution_count": 18,
   "id": "10f86209",
   "metadata": {},
   "outputs": [
    {
     "name": "stdout",
     "output_type": "stream",
     "text": [
      "[1.0, 2.2, 3.0]\n"
     ]
    }
   ],
   "source": [
    "print(l2)"
   ]
  },
  {
   "cell_type": "code",
   "execution_count": 19,
   "id": "b6a0f56f",
   "metadata": {},
   "outputs": [],
   "source": [
    "l3 = ['A','B','Hello']"
   ]
  },
  {
   "cell_type": "code",
   "execution_count": 20,
   "id": "83aca835",
   "metadata": {},
   "outputs": [
    {
     "name": "stdout",
     "output_type": "stream",
     "text": [
      "['A', 'B', 'Hello']\n"
     ]
    }
   ],
   "source": [
    "print(l3)"
   ]
  },
  {
   "cell_type": "code",
   "execution_count": 21,
   "id": "d4a4b41d",
   "metadata": {},
   "outputs": [
    {
     "data": {
      "text/plain": [
       "list"
      ]
     },
     "execution_count": 21,
     "metadata": {},
     "output_type": "execute_result"
    }
   ],
   "source": [
    "type(l3)"
   ]
  },
  {
   "cell_type": "code",
   "execution_count": 22,
   "id": "f8e8df9e",
   "metadata": {},
   "outputs": [],
   "source": [
    "l4 = [True,False,True,True]"
   ]
  },
  {
   "cell_type": "code",
   "execution_count": 23,
   "id": "2cd39053",
   "metadata": {},
   "outputs": [
    {
     "name": "stdout",
     "output_type": "stream",
     "text": [
      "[True, False, True, True]\n"
     ]
    }
   ],
   "source": [
    "print(l4)"
   ]
  },
  {
   "cell_type": "code",
   "execution_count": 24,
   "id": "7c971829",
   "metadata": {},
   "outputs": [
    {
     "data": {
      "text/plain": [
       "list"
      ]
     },
     "execution_count": 24,
     "metadata": {},
     "output_type": "execute_result"
    }
   ],
   "source": [
    "type(l4)"
   ]
  },
  {
   "cell_type": "code",
   "execution_count": 25,
   "id": "0b79076e",
   "metadata": {},
   "outputs": [],
   "source": [
    "l5 = [100,50.25,False,'India']"
   ]
  },
  {
   "cell_type": "code",
   "execution_count": 26,
   "id": "96ff97af",
   "metadata": {},
   "outputs": [
    {
     "data": {
      "text/plain": [
       "[100, 50.25, False, 'India']"
      ]
     },
     "execution_count": 26,
     "metadata": {},
     "output_type": "execute_result"
    }
   ],
   "source": [
    "l5"
   ]
  },
  {
   "cell_type": "code",
   "execution_count": 27,
   "id": "0a883caf",
   "metadata": {},
   "outputs": [
    {
     "name": "stdout",
     "output_type": "stream",
     "text": [
      "[100, 50.25, False, 'India']\n"
     ]
    }
   ],
   "source": [
    "print(l5)"
   ]
  },
  {
   "cell_type": "code",
   "execution_count": 28,
   "id": "83b9c549",
   "metadata": {},
   "outputs": [
    {
     "data": {
      "text/plain": [
       "list"
      ]
     },
     "execution_count": 28,
     "metadata": {},
     "output_type": "execute_result"
    }
   ],
   "source": [
    "type(l5)"
   ]
  },
  {
   "cell_type": "markdown",
   "id": "8851b938",
   "metadata": {},
   "source": [
    "# Q1. Create a list of 4 cities by the name of \"cities\"."
   ]
  },
  {
   "cell_type": "code",
   "execution_count": 29,
   "id": "acd10762",
   "metadata": {},
   "outputs": [
    {
     "data": {
      "text/plain": [
       "['Delhi', 'Mumbai', 'Pune', 'Nagpur']"
      ]
     },
     "execution_count": 29,
     "metadata": {},
     "output_type": "execute_result"
    }
   ],
   "source": [
    "cities = ['Delhi','Mumbai','Pune','Nagpur']\n",
    "cities"
   ]
  },
  {
   "cell_type": "markdown",
   "id": "b5391b15",
   "metadata": {},
   "source": [
    "# Concept of Indexing, Slicing in List"
   ]
  },
  {
   "cell_type": "code",
   "execution_count": 30,
   "id": "033aa363",
   "metadata": {},
   "outputs": [
    {
     "data": {
      "text/plain": [
       "'Delhi'"
      ]
     },
     "execution_count": 30,
     "metadata": {},
     "output_type": "execute_result"
    }
   ],
   "source": [
    "cities[0]"
   ]
  },
  {
   "cell_type": "code",
   "execution_count": 32,
   "id": "59450c3f",
   "metadata": {},
   "outputs": [
    {
     "data": {
      "text/plain": [
       "'Delhi'"
      ]
     },
     "execution_count": 32,
     "metadata": {},
     "output_type": "execute_result"
    }
   ],
   "source": [
    "cities[-4]"
   ]
  },
  {
   "cell_type": "code",
   "execution_count": 33,
   "id": "42e10bd2",
   "metadata": {},
   "outputs": [
    {
     "data": {
      "text/plain": [
       "'Nagpur'"
      ]
     },
     "execution_count": 33,
     "metadata": {},
     "output_type": "execute_result"
    }
   ],
   "source": [
    "cities[-1]"
   ]
  },
  {
   "cell_type": "code",
   "execution_count": 34,
   "id": "f86a7d7d",
   "metadata": {},
   "outputs": [
    {
     "data": {
      "text/plain": [
       "'Nagpur'"
      ]
     },
     "execution_count": 34,
     "metadata": {},
     "output_type": "execute_result"
    }
   ],
   "source": [
    "cities[3]"
   ]
  },
  {
   "cell_type": "code",
   "execution_count": 35,
   "id": "1e729920",
   "metadata": {},
   "outputs": [],
   "source": [
    "l1 = [10,12,44,33,65,34,88,53,74,50]"
   ]
  },
  {
   "cell_type": "code",
   "execution_count": 36,
   "id": "1eac2560",
   "metadata": {},
   "outputs": [
    {
     "data": {
      "text/plain": [
       "[10, 12, 44, 33, 65, 34, 88, 53, 74, 50]"
      ]
     },
     "execution_count": 36,
     "metadata": {},
     "output_type": "execute_result"
    }
   ],
   "source": [
    "l1"
   ]
  },
  {
   "cell_type": "code",
   "execution_count": 37,
   "id": "55ab6e6f",
   "metadata": {},
   "outputs": [
    {
     "data": {
      "text/plain": [
       "[12, 44, 33, 65]"
      ]
     },
     "execution_count": 37,
     "metadata": {},
     "output_type": "execute_result"
    }
   ],
   "source": [
    "l1[1:5]"
   ]
  },
  {
   "cell_type": "code",
   "execution_count": 38,
   "id": "a5edc408",
   "metadata": {},
   "outputs": [
    {
     "data": {
      "text/plain": [
       "[65, 34, 88, 53, 74]"
      ]
     },
     "execution_count": 38,
     "metadata": {},
     "output_type": "execute_result"
    }
   ],
   "source": [
    "l1[4:9]"
   ]
  },
  {
   "cell_type": "code",
   "execution_count": 39,
   "id": "a4eafe47",
   "metadata": {},
   "outputs": [
    {
     "data": {
      "text/plain": [
       "[44, 65, 88]"
      ]
     },
     "execution_count": 39,
     "metadata": {},
     "output_type": "execute_result"
    }
   ],
   "source": [
    "l1[2:7:2]"
   ]
  },
  {
   "cell_type": "code",
   "execution_count": 40,
   "id": "3b14a0ea",
   "metadata": {},
   "outputs": [
    {
     "data": {
      "text/plain": [
       "[74, 34, 44]"
      ]
     },
     "execution_count": 40,
     "metadata": {},
     "output_type": "execute_result"
    }
   ],
   "source": [
    "l1[8:1:-3]"
   ]
  },
  {
   "cell_type": "code",
   "execution_count": 42,
   "id": "24a83f01",
   "metadata": {},
   "outputs": [
    {
     "data": {
      "text/plain": [
       "[74, 34, 44]"
      ]
     },
     "execution_count": 42,
     "metadata": {},
     "output_type": "execute_result"
    }
   ],
   "source": [
    "l1[2:9:3][::-1]"
   ]
  },
  {
   "cell_type": "markdown",
   "id": "a0183934",
   "metadata": {},
   "source": [
    "# Number of elements in a list - Length -- len()"
   ]
  },
  {
   "cell_type": "code",
   "execution_count": 44,
   "id": "b3fae1e8",
   "metadata": {},
   "outputs": [
    {
     "data": {
      "text/plain": [
       "10"
      ]
     },
     "execution_count": 44,
     "metadata": {},
     "output_type": "execute_result"
    }
   ],
   "source": [
    "len(l1)"
   ]
  },
  {
   "cell_type": "code",
   "execution_count": 45,
   "id": "08e4d51e",
   "metadata": {},
   "outputs": [
    {
     "data": {
      "text/plain": [
       "['Delhi', 'Mumbai', 'Pune', 'Nagpur']"
      ]
     },
     "execution_count": 45,
     "metadata": {},
     "output_type": "execute_result"
    }
   ],
   "source": [
    "cities"
   ]
  },
  {
   "cell_type": "code",
   "execution_count": 46,
   "id": "3ce6ce61",
   "metadata": {},
   "outputs": [
    {
     "data": {
      "text/plain": [
       "4"
      ]
     },
     "execution_count": 46,
     "metadata": {},
     "output_type": "execute_result"
    }
   ],
   "source": [
    "len(cities)"
   ]
  },
  {
   "cell_type": "markdown",
   "id": "afa093ad",
   "metadata": {},
   "source": [
    "# Operations in List"
   ]
  },
  {
   "cell_type": "code",
   "execution_count": 47,
   "id": "64420bb2",
   "metadata": {},
   "outputs": [
    {
     "data": {
      "text/plain": [
       "['Delhi', 'Mumbai', 'Pune', 'Nagpur']"
      ]
     },
     "execution_count": 47,
     "metadata": {},
     "output_type": "execute_result"
    }
   ],
   "source": [
    "cities"
   ]
  },
  {
   "cell_type": "code",
   "execution_count": 48,
   "id": "db600320",
   "metadata": {},
   "outputs": [],
   "source": [
    "cities.append('Chennai')"
   ]
  },
  {
   "cell_type": "code",
   "execution_count": 49,
   "id": "26067c82",
   "metadata": {},
   "outputs": [
    {
     "data": {
      "text/plain": [
       "['Delhi', 'Mumbai', 'Pune', 'Nagpur', 'Chennai']"
      ]
     },
     "execution_count": 49,
     "metadata": {},
     "output_type": "execute_result"
    }
   ],
   "source": [
    "cities"
   ]
  },
  {
   "cell_type": "code",
   "execution_count": 50,
   "id": "c7c467de",
   "metadata": {},
   "outputs": [
    {
     "ename": "TypeError",
     "evalue": "append() takes exactly one argument (2 given)",
     "output_type": "error",
     "traceback": [
      "\u001b[0;31m---------------------------------------------------------------------------\u001b[0m",
      "\u001b[0;31mTypeError\u001b[0m                                 Traceback (most recent call last)",
      "\u001b[0;32m<ipython-input-50-a6cc669a5e31>\u001b[0m in \u001b[0;36m<module>\u001b[0;34m\u001b[0m\n\u001b[0;32m----> 1\u001b[0;31m \u001b[0mcities\u001b[0m\u001b[0;34m.\u001b[0m\u001b[0mappend\u001b[0m\u001b[0;34m(\u001b[0m\u001b[0;34m'Indore'\u001b[0m\u001b[0;34m,\u001b[0m\u001b[0;34m'Bangalore'\u001b[0m\u001b[0;34m)\u001b[0m\u001b[0;34m\u001b[0m\u001b[0;34m\u001b[0m\u001b[0m\n\u001b[0m",
      "\u001b[0;31mTypeError\u001b[0m: append() takes exactly one argument (2 given)"
     ]
    }
   ],
   "source": [
    "cities.append('Indore','Bangalore')"
   ]
  },
  {
   "cell_type": "markdown",
   "id": "77901e4b",
   "metadata": {},
   "source": [
    "## Note : Append adds only one element at the end of the list."
   ]
  },
  {
   "cell_type": "code",
   "execution_count": 51,
   "id": "2ad4e6b0",
   "metadata": {},
   "outputs": [],
   "source": [
    "cities.extend(['Indore','Bangalore'])"
   ]
  },
  {
   "cell_type": "code",
   "execution_count": 52,
   "id": "71ffb6ae",
   "metadata": {},
   "outputs": [
    {
     "data": {
      "text/plain": [
       "['Delhi', 'Mumbai', 'Pune', 'Nagpur', 'Chennai', 'Indore', 'Bangalore']"
      ]
     },
     "execution_count": 52,
     "metadata": {},
     "output_type": "execute_result"
    }
   ],
   "source": [
    "cities"
   ]
  },
  {
   "cell_type": "code",
   "execution_count": 53,
   "id": "2a58dc17",
   "metadata": {},
   "outputs": [],
   "source": [
    "l1 = ['A','B','C']"
   ]
  },
  {
   "cell_type": "code",
   "execution_count": 54,
   "id": "94ddc068",
   "metadata": {},
   "outputs": [
    {
     "ename": "TypeError",
     "evalue": "append() takes exactly one argument (2 given)",
     "output_type": "error",
     "traceback": [
      "\u001b[0;31m---------------------------------------------------------------------------\u001b[0m",
      "\u001b[0;31mTypeError\u001b[0m                                 Traceback (most recent call last)",
      "\u001b[0;32m<ipython-input-54-4bca7096140c>\u001b[0m in \u001b[0;36m<module>\u001b[0;34m\u001b[0m\n\u001b[0;32m----> 1\u001b[0;31m \u001b[0ml1\u001b[0m\u001b[0;34m.\u001b[0m\u001b[0mappend\u001b[0m\u001b[0;34m(\u001b[0m\u001b[0;34m'D'\u001b[0m\u001b[0;34m,\u001b[0m\u001b[0;34m'E'\u001b[0m\u001b[0;34m)\u001b[0m\u001b[0;34m\u001b[0m\u001b[0;34m\u001b[0m\u001b[0m\n\u001b[0m",
      "\u001b[0;31mTypeError\u001b[0m: append() takes exactly one argument (2 given)"
     ]
    }
   ],
   "source": [
    "l1.append('D','E')"
   ]
  },
  {
   "cell_type": "code",
   "execution_count": 55,
   "id": "ddeb4975",
   "metadata": {},
   "outputs": [],
   "source": [
    "l1.append(['D','E'])"
   ]
  },
  {
   "cell_type": "code",
   "execution_count": 56,
   "id": "1a3a7e57",
   "metadata": {},
   "outputs": [
    {
     "data": {
      "text/plain": [
       "['A', 'B', 'C', ['D', 'E']]"
      ]
     },
     "execution_count": 56,
     "metadata": {},
     "output_type": "execute_result"
    }
   ],
   "source": [
    "l1"
   ]
  },
  {
   "cell_type": "code",
   "execution_count": 57,
   "id": "0984c7e0",
   "metadata": {},
   "outputs": [
    {
     "data": {
      "text/plain": [
       "4"
      ]
     },
     "execution_count": 57,
     "metadata": {},
     "output_type": "execute_result"
    }
   ],
   "source": [
    "len(l1)"
   ]
  },
  {
   "cell_type": "markdown",
   "id": "5b5c3786",
   "metadata": {},
   "source": [
    "## Note : Extend will add multiple value at the end of the list."
   ]
  },
  {
   "cell_type": "code",
   "execution_count": 58,
   "id": "f71513f7",
   "metadata": {},
   "outputs": [
    {
     "data": {
      "text/plain": [
       "['Delhi', 'Mumbai', 'Pune', 'Nagpur', 'Chennai', 'Indore', 'Bangalore']"
      ]
     },
     "execution_count": 58,
     "metadata": {},
     "output_type": "execute_result"
    }
   ],
   "source": [
    "cities"
   ]
  },
  {
   "cell_type": "code",
   "execution_count": 59,
   "id": "ee2b04f7",
   "metadata": {},
   "outputs": [],
   "source": [
    "cities.insert(2,'Jaipur')"
   ]
  },
  {
   "cell_type": "code",
   "execution_count": 60,
   "id": "990645c2",
   "metadata": {},
   "outputs": [
    {
     "data": {
      "text/plain": [
       "['Delhi',\n",
       " 'Mumbai',\n",
       " 'Jaipur',\n",
       " 'Pune',\n",
       " 'Nagpur',\n",
       " 'Chennai',\n",
       " 'Indore',\n",
       " 'Bangalore']"
      ]
     },
     "execution_count": 60,
     "metadata": {},
     "output_type": "execute_result"
    }
   ],
   "source": [
    "cities"
   ]
  },
  {
   "cell_type": "code",
   "execution_count": 61,
   "id": "51dbeaf7",
   "metadata": {},
   "outputs": [
    {
     "data": {
      "text/plain": [
       "list"
      ]
     },
     "execution_count": 61,
     "metadata": {},
     "output_type": "execute_result"
    }
   ],
   "source": [
    "type(cities)"
   ]
  },
  {
   "cell_type": "markdown",
   "id": "ab0fb3d2",
   "metadata": {},
   "source": [
    "# Note : Insert will help to add a value at a specific position."
   ]
  },
  {
   "cell_type": "code",
   "execution_count": 63,
   "id": "a42df4cf",
   "metadata": {},
   "outputs": [],
   "source": [
    "l1 = ['A','B','C','D']"
   ]
  },
  {
   "cell_type": "code",
   "execution_count": 64,
   "id": "7b406ef1",
   "metadata": {},
   "outputs": [
    {
     "ename": "TypeError",
     "evalue": "insert expected 2 arguments, got 3",
     "output_type": "error",
     "traceback": [
      "\u001b[0;31m---------------------------------------------------------------------------\u001b[0m",
      "\u001b[0;31mTypeError\u001b[0m                                 Traceback (most recent call last)",
      "\u001b[0;32m<ipython-input-64-2e7efe7a1325>\u001b[0m in \u001b[0;36m<module>\u001b[0;34m\u001b[0m\n\u001b[0;32m----> 1\u001b[0;31m \u001b[0ml1\u001b[0m\u001b[0;34m.\u001b[0m\u001b[0minsert\u001b[0m\u001b[0;34m(\u001b[0m\u001b[0;36m2\u001b[0m\u001b[0;34m,\u001b[0m\u001b[0;34m'E'\u001b[0m\u001b[0;34m,\u001b[0m\u001b[0;34m'F'\u001b[0m\u001b[0;34m)\u001b[0m\u001b[0;34m\u001b[0m\u001b[0;34m\u001b[0m\u001b[0m\n\u001b[0m",
      "\u001b[0;31mTypeError\u001b[0m: insert expected 2 arguments, got 3"
     ]
    }
   ],
   "source": [
    "l1.insert(2,'E','F')"
   ]
  },
  {
   "cell_type": "code",
   "execution_count": 65,
   "id": "57ec129e",
   "metadata": {},
   "outputs": [],
   "source": [
    "l1.insert(2,['E','F'])"
   ]
  },
  {
   "cell_type": "code",
   "execution_count": 66,
   "id": "a8e6cad3",
   "metadata": {},
   "outputs": [
    {
     "data": {
      "text/plain": [
       "['A', 'B', ['E', 'F'], 'C', 'D']"
      ]
     },
     "execution_count": 66,
     "metadata": {},
     "output_type": "execute_result"
    }
   ],
   "source": [
    "l1"
   ]
  },
  {
   "cell_type": "code",
   "execution_count": 73,
   "id": "37571947",
   "metadata": {},
   "outputs": [],
   "source": [
    "l2 = [1,3,5,6]"
   ]
  },
  {
   "cell_type": "markdown",
   "id": "481dcaec",
   "metadata": {},
   "source": [
    "- Add 2 and 4 at specific positions.\n",
    "- Add 7 at the end.\n",
    "- Add 8,9 and 10 in one code."
   ]
  },
  {
   "cell_type": "code",
   "execution_count": 74,
   "id": "826d7a89",
   "metadata": {},
   "outputs": [
    {
     "name": "stdout",
     "output_type": "stream",
     "text": [
      "[1, 2, 3, 5, 6]\n"
     ]
    }
   ],
   "source": [
    "l2.insert(1,2)\n",
    "print(l2)"
   ]
  },
  {
   "cell_type": "code",
   "execution_count": 75,
   "id": "b6e789ba",
   "metadata": {},
   "outputs": [
    {
     "name": "stdout",
     "output_type": "stream",
     "text": [
      "[1, 2, 3, 4, 5, 6]\n"
     ]
    }
   ],
   "source": [
    "l2.insert(3,4)\n",
    "print(l2)"
   ]
  },
  {
   "cell_type": "code",
   "execution_count": 76,
   "id": "500b8d8b",
   "metadata": {},
   "outputs": [
    {
     "name": "stdout",
     "output_type": "stream",
     "text": [
      "[1, 2, 3, 4, 5, 6, 7]\n"
     ]
    }
   ],
   "source": [
    "l2.append(7)\n",
    "print(l2)"
   ]
  },
  {
   "cell_type": "code",
   "execution_count": 77,
   "id": "a03333b2",
   "metadata": {},
   "outputs": [
    {
     "name": "stdout",
     "output_type": "stream",
     "text": [
      "[1, 2, 3, 4, 5, 6, 7, 8, 9, 10]\n"
     ]
    }
   ],
   "source": [
    "l2.extend([8,9,10])\n",
    "print(l2)"
   ]
  },
  {
   "cell_type": "markdown",
   "id": "f0a4d0b5",
   "metadata": {},
   "source": [
    "# Deletion techniques in List"
   ]
  },
  {
   "cell_type": "code",
   "execution_count": 78,
   "id": "f5827fed",
   "metadata": {},
   "outputs": [
    {
     "data": {
      "text/plain": [
       "['Delhi',\n",
       " 'Mumbai',\n",
       " 'Jaipur',\n",
       " 'Pune',\n",
       " 'Nagpur',\n",
       " 'Chennai',\n",
       " 'Indore',\n",
       " 'Bangalore']"
      ]
     },
     "execution_count": 78,
     "metadata": {},
     "output_type": "execute_result"
    }
   ],
   "source": [
    "cities"
   ]
  },
  {
   "cell_type": "code",
   "execution_count": 79,
   "id": "5ca3ca7a",
   "metadata": {},
   "outputs": [],
   "source": [
    "del cities[1]"
   ]
  },
  {
   "cell_type": "code",
   "execution_count": 80,
   "id": "032f323d",
   "metadata": {},
   "outputs": [
    {
     "data": {
      "text/plain": [
       "['Delhi', 'Jaipur', 'Pune', 'Nagpur', 'Chennai', 'Indore', 'Bangalore']"
      ]
     },
     "execution_count": 80,
     "metadata": {},
     "output_type": "execute_result"
    }
   ],
   "source": [
    "cities"
   ]
  },
  {
   "cell_type": "code",
   "execution_count": 81,
   "id": "e5e61ea0",
   "metadata": {},
   "outputs": [],
   "source": [
    "del cities[4:6]"
   ]
  },
  {
   "cell_type": "code",
   "execution_count": 82,
   "id": "e1dae4c1",
   "metadata": {},
   "outputs": [
    {
     "data": {
      "text/plain": [
       "['Delhi', 'Jaipur', 'Pune', 'Nagpur', 'Bangalore']"
      ]
     },
     "execution_count": 82,
     "metadata": {},
     "output_type": "execute_result"
    }
   ],
   "source": [
    "cities"
   ]
  },
  {
   "cell_type": "code",
   "execution_count": 83,
   "id": "f48a1947",
   "metadata": {},
   "outputs": [],
   "source": [
    "cities.remove('Pune')"
   ]
  },
  {
   "cell_type": "code",
   "execution_count": 84,
   "id": "3f64d71c",
   "metadata": {},
   "outputs": [
    {
     "data": {
      "text/plain": [
       "['Delhi', 'Jaipur', 'Nagpur', 'Bangalore']"
      ]
     },
     "execution_count": 84,
     "metadata": {},
     "output_type": "execute_result"
    }
   ],
   "source": [
    "cities"
   ]
  },
  {
   "cell_type": "code",
   "execution_count": 85,
   "id": "36f806d3",
   "metadata": {},
   "outputs": [
    {
     "data": {
      "text/plain": [
       "'Bangalore'"
      ]
     },
     "execution_count": 85,
     "metadata": {},
     "output_type": "execute_result"
    }
   ],
   "source": [
    "cities.pop()"
   ]
  },
  {
   "cell_type": "code",
   "execution_count": 86,
   "id": "bfe96267",
   "metadata": {},
   "outputs": [
    {
     "data": {
      "text/plain": [
       "['Delhi', 'Jaipur', 'Nagpur']"
      ]
     },
     "execution_count": 86,
     "metadata": {},
     "output_type": "execute_result"
    }
   ],
   "source": [
    "cities"
   ]
  },
  {
   "cell_type": "code",
   "execution_count": 87,
   "id": "1294bafb",
   "metadata": {},
   "outputs": [
    {
     "data": {
      "text/plain": [
       "'Jaipur'"
      ]
     },
     "execution_count": 87,
     "metadata": {},
     "output_type": "execute_result"
    }
   ],
   "source": [
    "cities.pop(1)"
   ]
  },
  {
   "cell_type": "code",
   "execution_count": 88,
   "id": "af4126e4",
   "metadata": {},
   "outputs": [
    {
     "data": {
      "text/plain": [
       "['Delhi', 'Nagpur']"
      ]
     },
     "execution_count": 88,
     "metadata": {},
     "output_type": "execute_result"
    }
   ],
   "source": [
    "cities"
   ]
  },
  {
   "cell_type": "code",
   "execution_count": 89,
   "id": "0c25e85e",
   "metadata": {},
   "outputs": [],
   "source": [
    "cities.clear()"
   ]
  },
  {
   "cell_type": "code",
   "execution_count": 90,
   "id": "c605ba5e",
   "metadata": {},
   "outputs": [
    {
     "data": {
      "text/plain": [
       "[]"
      ]
     },
     "execution_count": 90,
     "metadata": {},
     "output_type": "execute_result"
    }
   ],
   "source": [
    "cities"
   ]
  },
  {
   "cell_type": "code",
   "execution_count": 91,
   "id": "565d4be5",
   "metadata": {},
   "outputs": [],
   "source": [
    "del cities"
   ]
  },
  {
   "cell_type": "code",
   "execution_count": 92,
   "id": "ca63898b",
   "metadata": {},
   "outputs": [
    {
     "ename": "NameError",
     "evalue": "name 'cities' is not defined",
     "output_type": "error",
     "traceback": [
      "\u001b[0;31m---------------------------------------------------------------------------\u001b[0m",
      "\u001b[0;31mNameError\u001b[0m                                 Traceback (most recent call last)",
      "\u001b[0;32m<ipython-input-92-65ba5a9af2c6>\u001b[0m in \u001b[0;36m<module>\u001b[0;34m\u001b[0m\n\u001b[0;32m----> 1\u001b[0;31m \u001b[0mcities\u001b[0m\u001b[0;34m\u001b[0m\u001b[0;34m\u001b[0m\u001b[0m\n\u001b[0m",
      "\u001b[0;31mNameError\u001b[0m: name 'cities' is not defined"
     ]
    }
   ],
   "source": [
    "cities"
   ]
  },
  {
   "cell_type": "code",
   "execution_count": 93,
   "id": "d2886b7e",
   "metadata": {},
   "outputs": [],
   "source": [
    "cities = ['Delhi','Pune','Delhi','Chennai']"
   ]
  },
  {
   "cell_type": "code",
   "execution_count": 94,
   "id": "e347bf33",
   "metadata": {},
   "outputs": [],
   "source": [
    "cities.remove('Delhi')"
   ]
  },
  {
   "cell_type": "code",
   "execution_count": 95,
   "id": "25cda3d3",
   "metadata": {},
   "outputs": [
    {
     "data": {
      "text/plain": [
       "['Pune', 'Delhi', 'Chennai']"
      ]
     },
     "execution_count": 95,
     "metadata": {},
     "output_type": "execute_result"
    }
   ],
   "source": [
    "cities"
   ]
  },
  {
   "cell_type": "code",
   "execution_count": 96,
   "id": "036a98aa",
   "metadata": {},
   "outputs": [
    {
     "ename": "TypeError",
     "evalue": "remove() takes exactly one argument (2 given)",
     "output_type": "error",
     "traceback": [
      "\u001b[0;31m---------------------------------------------------------------------------\u001b[0m",
      "\u001b[0;31mTypeError\u001b[0m                                 Traceback (most recent call last)",
      "\u001b[0;32m<ipython-input-96-3c104f832d6b>\u001b[0m in \u001b[0;36m<module>\u001b[0;34m\u001b[0m\n\u001b[0;32m----> 1\u001b[0;31m \u001b[0mcities\u001b[0m\u001b[0;34m.\u001b[0m\u001b[0mremove\u001b[0m\u001b[0;34m(\u001b[0m\u001b[0;34m'Delhi'\u001b[0m\u001b[0;34m,\u001b[0m\u001b[0;34m'Pune'\u001b[0m\u001b[0;34m)\u001b[0m\u001b[0;34m\u001b[0m\u001b[0;34m\u001b[0m\u001b[0m\n\u001b[0m",
      "\u001b[0;31mTypeError\u001b[0m: remove() takes exactly one argument (2 given)"
     ]
    }
   ],
   "source": [
    "cities.remove('Delhi','Pune')"
   ]
  },
  {
   "cell_type": "code",
   "execution_count": 97,
   "id": "b1f11152",
   "metadata": {},
   "outputs": [
    {
     "ename": "ValueError",
     "evalue": "list.remove(x): x not in list",
     "output_type": "error",
     "traceback": [
      "\u001b[0;31m---------------------------------------------------------------------------\u001b[0m",
      "\u001b[0;31mValueError\u001b[0m                                Traceback (most recent call last)",
      "\u001b[0;32m<ipython-input-97-996fc4ce58ef>\u001b[0m in \u001b[0;36m<module>\u001b[0;34m\u001b[0m\n\u001b[0;32m----> 1\u001b[0;31m \u001b[0mcities\u001b[0m\u001b[0;34m.\u001b[0m\u001b[0mremove\u001b[0m\u001b[0;34m(\u001b[0m\u001b[0;34m[\u001b[0m\u001b[0;34m'Delhi'\u001b[0m\u001b[0;34m,\u001b[0m\u001b[0;34m'Pune'\u001b[0m\u001b[0;34m]\u001b[0m\u001b[0;34m)\u001b[0m\u001b[0;34m\u001b[0m\u001b[0;34m\u001b[0m\u001b[0m\n\u001b[0m",
      "\u001b[0;31mValueError\u001b[0m: list.remove(x): x not in list"
     ]
    }
   ],
   "source": [
    "cities.remove(['Delhi','Pune'])"
   ]
  },
  {
   "cell_type": "markdown",
   "id": "675e08f1",
   "metadata": {},
   "source": [
    "# Overwriting in List"
   ]
  },
  {
   "cell_type": "code",
   "execution_count": 100,
   "id": "c266eabb",
   "metadata": {},
   "outputs": [
    {
     "data": {
      "text/plain": [
       "['Pune', 'Delhi', 'Chennai']"
      ]
     },
     "execution_count": 100,
     "metadata": {},
     "output_type": "execute_result"
    }
   ],
   "source": [
    "cities"
   ]
  },
  {
   "cell_type": "code",
   "execution_count": 101,
   "id": "2d957a16",
   "metadata": {},
   "outputs": [],
   "source": [
    "cities[1] = 'Nagpur'"
   ]
  },
  {
   "cell_type": "code",
   "execution_count": 102,
   "id": "3229883f",
   "metadata": {},
   "outputs": [
    {
     "data": {
      "text/plain": [
       "['Pune', 'Nagpur', 'Chennai']"
      ]
     },
     "execution_count": 102,
     "metadata": {},
     "output_type": "execute_result"
    }
   ],
   "source": [
    "cities"
   ]
  },
  {
   "cell_type": "markdown",
   "id": "2b554535",
   "metadata": {},
   "source": [
    "# Concatenate List"
   ]
  },
  {
   "cell_type": "code",
   "execution_count": 103,
   "id": "f36ff653",
   "metadata": {},
   "outputs": [],
   "source": [
    "l1 = [10,20,30]\n",
    "l2 = [40,50,60]"
   ]
  },
  {
   "cell_type": "code",
   "execution_count": 104,
   "id": "4ecf394c",
   "metadata": {},
   "outputs": [
    {
     "data": {
      "text/plain": [
       "[10, 20, 30]"
      ]
     },
     "execution_count": 104,
     "metadata": {},
     "output_type": "execute_result"
    }
   ],
   "source": [
    "l1"
   ]
  },
  {
   "cell_type": "code",
   "execution_count": 105,
   "id": "8d2714e6",
   "metadata": {},
   "outputs": [
    {
     "data": {
      "text/plain": [
       "[40, 50, 60]"
      ]
     },
     "execution_count": 105,
     "metadata": {},
     "output_type": "execute_result"
    }
   ],
   "source": [
    "l2"
   ]
  },
  {
   "cell_type": "code",
   "execution_count": 106,
   "id": "e7451282",
   "metadata": {},
   "outputs": [
    {
     "data": {
      "text/plain": [
       "[10, 20, 30, 40, 50, 60]"
      ]
     },
     "execution_count": 106,
     "metadata": {},
     "output_type": "execute_result"
    }
   ],
   "source": [
    "l1 + l2"
   ]
  },
  {
   "cell_type": "code",
   "execution_count": 107,
   "id": "258d2609",
   "metadata": {},
   "outputs": [
    {
     "data": {
      "text/plain": [
       "['Pune', 'Nagpur', 'Chennai']"
      ]
     },
     "execution_count": 107,
     "metadata": {},
     "output_type": "execute_result"
    }
   ],
   "source": [
    "cities"
   ]
  },
  {
   "cell_type": "code",
   "execution_count": 108,
   "id": "9c89216e",
   "metadata": {},
   "outputs": [],
   "source": [
    "cities_2 = ['Mumbai','Hyderabad']"
   ]
  },
  {
   "cell_type": "code",
   "execution_count": 109,
   "id": "7adb6bc8",
   "metadata": {},
   "outputs": [
    {
     "data": {
      "text/plain": [
       "['Pune', 'Nagpur', 'Chennai', 'Mumbai', 'Hyderabad']"
      ]
     },
     "execution_count": 109,
     "metadata": {},
     "output_type": "execute_result"
    }
   ],
   "source": [
    "cities + cities_2 "
   ]
  },
  {
   "cell_type": "code",
   "execution_count": 110,
   "id": "0d8cbffc",
   "metadata": {},
   "outputs": [
    {
     "data": {
      "text/plain": [
       "['Pune', 'Nagpur', 'Chennai', 'Mumbai', 'Hyderabad', 'Nagpur', 'Mumbai']"
      ]
     },
     "execution_count": 110,
     "metadata": {},
     "output_type": "execute_result"
    }
   ],
   "source": [
    "cities + cities_2 + ['Nagpur','Mumbai']"
   ]
  },
  {
   "cell_type": "markdown",
   "id": "fa2c28cb",
   "metadata": {},
   "source": [
    "# Sorting "
   ]
  },
  {
   "cell_type": "code",
   "execution_count": 111,
   "id": "0ece616f",
   "metadata": {},
   "outputs": [],
   "source": [
    "a = [1,5,2,4,8,10]"
   ]
  },
  {
   "cell_type": "code",
   "execution_count": 112,
   "id": "0044feb3",
   "metadata": {},
   "outputs": [],
   "source": [
    "a.sort()"
   ]
  },
  {
   "cell_type": "code",
   "execution_count": 113,
   "id": "e02d569a",
   "metadata": {},
   "outputs": [
    {
     "data": {
      "text/plain": [
       "[1, 2, 4, 5, 8, 10]"
      ]
     },
     "execution_count": 113,
     "metadata": {},
     "output_type": "execute_result"
    }
   ],
   "source": [
    "a"
   ]
  },
  {
   "cell_type": "code",
   "execution_count": 114,
   "id": "6d37474a",
   "metadata": {},
   "outputs": [],
   "source": [
    "a.reverse()"
   ]
  },
  {
   "cell_type": "code",
   "execution_count": 115,
   "id": "8b5689cd",
   "metadata": {},
   "outputs": [
    {
     "data": {
      "text/plain": [
       "[10, 8, 5, 4, 2, 1]"
      ]
     },
     "execution_count": 115,
     "metadata": {},
     "output_type": "execute_result"
    }
   ],
   "source": [
    "a"
   ]
  },
  {
   "cell_type": "markdown",
   "id": "9d028d45",
   "metadata": {},
   "source": [
    "# Note : sort() , reverse() will make changes in the orignal Variable."
   ]
  },
  {
   "cell_type": "code",
   "execution_count": 116,
   "id": "c82f4316",
   "metadata": {},
   "outputs": [],
   "source": [
    "a = [1,5,2,4,8,10]"
   ]
  },
  {
   "cell_type": "code",
   "execution_count": 117,
   "id": "4dd676a5",
   "metadata": {},
   "outputs": [
    {
     "data": {
      "text/plain": [
       "[1, 2, 4, 5, 8, 10]"
      ]
     },
     "execution_count": 117,
     "metadata": {},
     "output_type": "execute_result"
    }
   ],
   "source": [
    "sorted(a)"
   ]
  },
  {
   "cell_type": "code",
   "execution_count": 118,
   "id": "579f9ce2",
   "metadata": {},
   "outputs": [
    {
     "data": {
      "text/plain": [
       "[10, 8, 5, 4, 2, 1]"
      ]
     },
     "execution_count": 118,
     "metadata": {},
     "output_type": "execute_result"
    }
   ],
   "source": [
    "sorted(a,reverse=True)"
   ]
  },
  {
   "cell_type": "code",
   "execution_count": 119,
   "id": "4a27ce49",
   "metadata": {},
   "outputs": [
    {
     "data": {
      "text/plain": [
       "[1, 5, 2, 4, 8, 10]"
      ]
     },
     "execution_count": 119,
     "metadata": {},
     "output_type": "execute_result"
    }
   ],
   "source": [
    " a"
   ]
  },
  {
   "cell_type": "markdown",
   "id": "19360ef5",
   "metadata": {},
   "source": [
    "# Repetation in List"
   ]
  },
  {
   "cell_type": "code",
   "execution_count": 120,
   "id": "a9cffa52",
   "metadata": {},
   "outputs": [],
   "source": [
    "a = [10,20,30]"
   ]
  },
  {
   "cell_type": "code",
   "execution_count": 121,
   "id": "08707fa0",
   "metadata": {},
   "outputs": [
    {
     "data": {
      "text/plain": [
       "[10, 20, 30]"
      ]
     },
     "execution_count": 121,
     "metadata": {},
     "output_type": "execute_result"
    }
   ],
   "source": [
    "a"
   ]
  },
  {
   "cell_type": "code",
   "execution_count": 122,
   "id": "76fbf1e3",
   "metadata": {},
   "outputs": [
    {
     "data": {
      "text/plain": [
       "[10, 20, 30, 10, 20, 30]"
      ]
     },
     "execution_count": 122,
     "metadata": {},
     "output_type": "execute_result"
    }
   ],
   "source": [
    "a * 2"
   ]
  },
  {
   "cell_type": "code",
   "execution_count": 123,
   "id": "1366367c",
   "metadata": {},
   "outputs": [
    {
     "data": {
      "text/plain": [
       "[10, 20, 30, 10, 20, 30, 10, 20, 30]"
      ]
     },
     "execution_count": 123,
     "metadata": {},
     "output_type": "execute_result"
    }
   ],
   "source": [
    "a * 3"
   ]
  },
  {
   "cell_type": "code",
   "execution_count": 124,
   "id": "6f9c7b71",
   "metadata": {},
   "outputs": [
    {
     "data": {
      "text/plain": [
       "[10, 20, 30]"
      ]
     },
     "execution_count": 124,
     "metadata": {},
     "output_type": "execute_result"
    }
   ],
   "source": [
    "a"
   ]
  },
  {
   "cell_type": "markdown",
   "id": "d6a2e29b",
   "metadata": {},
   "source": [
    "# Additional Function w.r.t List "
   ]
  },
  {
   "cell_type": "code",
   "execution_count": 125,
   "id": "331865d8",
   "metadata": {},
   "outputs": [],
   "source": [
    "a = [1,5,2,4,8,10]"
   ]
  },
  {
   "cell_type": "code",
   "execution_count": 126,
   "id": "e45e82cb",
   "metadata": {},
   "outputs": [
    {
     "data": {
      "text/plain": [
       "6"
      ]
     },
     "execution_count": 126,
     "metadata": {},
     "output_type": "execute_result"
    }
   ],
   "source": [
    "len(a)"
   ]
  },
  {
   "cell_type": "code",
   "execution_count": 127,
   "id": "272368c5",
   "metadata": {},
   "outputs": [
    {
     "data": {
      "text/plain": [
       "10"
      ]
     },
     "execution_count": 127,
     "metadata": {},
     "output_type": "execute_result"
    }
   ],
   "source": [
    "max(a)"
   ]
  },
  {
   "cell_type": "code",
   "execution_count": 128,
   "id": "99f36bb2",
   "metadata": {},
   "outputs": [
    {
     "data": {
      "text/plain": [
       "1"
      ]
     },
     "execution_count": 128,
     "metadata": {},
     "output_type": "execute_result"
    }
   ],
   "source": [
    "min(a)"
   ]
  },
  {
   "cell_type": "code",
   "execution_count": 129,
   "id": "83fdb18b",
   "metadata": {},
   "outputs": [],
   "source": [
    "cities = ['Delhi','Pune','Chennai']"
   ]
  },
  {
   "cell_type": "code",
   "execution_count": 130,
   "id": "abfe9486",
   "metadata": {},
   "outputs": [
    {
     "data": {
      "text/plain": [
       "['Delhi', 'Pune', 'Chennai']"
      ]
     },
     "execution_count": 130,
     "metadata": {},
     "output_type": "execute_result"
    }
   ],
   "source": [
    "cities"
   ]
  },
  {
   "cell_type": "code",
   "execution_count": 131,
   "id": "901342d5",
   "metadata": {},
   "outputs": [
    {
     "data": {
      "text/plain": [
       "1"
      ]
     },
     "execution_count": 131,
     "metadata": {},
     "output_type": "execute_result"
    }
   ],
   "source": [
    "cities.index('Pune')"
   ]
  },
  {
   "cell_type": "code",
   "execution_count": 132,
   "id": "6c55d9b2",
   "metadata": {},
   "outputs": [
    {
     "data": {
      "text/plain": [
       "2"
      ]
     },
     "execution_count": 132,
     "metadata": {},
     "output_type": "execute_result"
    }
   ],
   "source": [
    "cities.index('Chennai')"
   ]
  },
  {
   "cell_type": "code",
   "execution_count": 133,
   "id": "2c771351",
   "metadata": {},
   "outputs": [],
   "source": [
    "cities.append('Delhi')"
   ]
  },
  {
   "cell_type": "code",
   "execution_count": 134,
   "id": "22585b23",
   "metadata": {},
   "outputs": [
    {
     "data": {
      "text/plain": [
       "['Delhi', 'Pune', 'Chennai', 'Delhi']"
      ]
     },
     "execution_count": 134,
     "metadata": {},
     "output_type": "execute_result"
    }
   ],
   "source": [
    "cities"
   ]
  },
  {
   "cell_type": "code",
   "execution_count": 135,
   "id": "4ceac3d0",
   "metadata": {},
   "outputs": [
    {
     "data": {
      "text/plain": [
       "0"
      ]
     },
     "execution_count": 135,
     "metadata": {},
     "output_type": "execute_result"
    }
   ],
   "source": [
    "cities.index('Delhi')"
   ]
  },
  {
   "cell_type": "markdown",
   "id": "d0f90eed",
   "metadata": {},
   "source": [
    "### Note : index will return the index value of first occurance of the element in the list."
   ]
  },
  {
   "cell_type": "code",
   "execution_count": 137,
   "id": "906e6277",
   "metadata": {},
   "outputs": [
    {
     "data": {
      "text/plain": [
       "['Delhi', 'Pune', 'Chennai', 'Delhi']"
      ]
     },
     "execution_count": 137,
     "metadata": {},
     "output_type": "execute_result"
    }
   ],
   "source": [
    "cities"
   ]
  },
  {
   "cell_type": "code",
   "execution_count": 138,
   "id": "dd9b38af",
   "metadata": {},
   "outputs": [
    {
     "data": {
      "text/plain": [
       "1"
      ]
     },
     "execution_count": 138,
     "metadata": {},
     "output_type": "execute_result"
    }
   ],
   "source": [
    "cities.count('Pune')"
   ]
  },
  {
   "cell_type": "code",
   "execution_count": 139,
   "id": "df33b55f",
   "metadata": {},
   "outputs": [
    {
     "data": {
      "text/plain": [
       "2"
      ]
     },
     "execution_count": 139,
     "metadata": {},
     "output_type": "execute_result"
    }
   ],
   "source": [
    "cities.count('Delhi')"
   ]
  },
  {
   "cell_type": "code",
   "execution_count": 146,
   "id": "d2d7de77",
   "metadata": {},
   "outputs": [
    {
     "name": "stdout",
     "output_type": "stream",
     "text": [
      "My First Name is:Krutika:\n",
      "My last name is:Agrawal\n"
     ]
    }
   ],
   "source": [
    "fname='Krutika'\n",
    "lname='Agrawal'\n",
    "print('My First Name is',fname, '\\nMy last name is',lname, sep=':')"
   ]
  },
  {
   "cell_type": "code",
   "execution_count": 147,
   "id": "e5d69b96",
   "metadata": {},
   "outputs": [
    {
     "name": "stdout",
     "output_type": "stream",
     "text": [
      "My First Name is : Krutika \n",
      "My last name is : Agrawal\n"
     ]
    }
   ],
   "source": [
    "fname='Krutika'\n",
    "lname='Agrawal'\n",
    "print('My First Name is :',fname, '\\nMy last name is :',lname)"
   ]
  },
  {
   "cell_type": "code",
   "execution_count": null,
   "id": "3f296729",
   "metadata": {},
   "outputs": [],
   "source": []
  }
 ],
 "metadata": {
  "kernelspec": {
   "display_name": "Python 3",
   "language": "python",
   "name": "python3"
  },
  "language_info": {
   "codemirror_mode": {
    "name": "ipython",
    "version": 3
   },
   "file_extension": ".py",
   "mimetype": "text/x-python",
   "name": "python",
   "nbconvert_exporter": "python",
   "pygments_lexer": "ipython3",
   "version": "3.8.8"
  }
 },
 "nbformat": 4,
 "nbformat_minor": 5
}
