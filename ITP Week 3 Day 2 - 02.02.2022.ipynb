{
 "cells": [
  {
   "cell_type": "markdown",
   "id": "3166becf",
   "metadata": {},
   "source": [
    "### Q1. Check if the number is Positive or Zero. If Zero then print Zero else Positive. Else Negative."
   ]
  },
  {
   "cell_type": "code",
   "execution_count": 3,
   "id": "969a3c26",
   "metadata": {},
   "outputs": [
    {
     "name": "stdout",
     "output_type": "stream",
     "text": [
      "Please enter a number 0\n",
      "The number is Zero.\n"
     ]
    }
   ],
   "source": [
    "a = int(input('Please enter a number '))\n",
    "if (a >= 0):\n",
    "    if (a == 0):\n",
    "        print('The number is Zero.')\n",
    "    else:\n",
    "        print('The number is Positive')\n",
    "else:\n",
    "    print('The number is Negative.')"
   ]
  },
  {
   "cell_type": "markdown",
   "id": "3b702b11",
   "metadata": {},
   "source": [
    "# Iterators in Python\n",
    "\n",
    "1. For Loop\n",
    "2. While Loop"
   ]
  },
  {
   "cell_type": "code",
   "execution_count": 4,
   "id": "447f1bc2",
   "metadata": {},
   "outputs": [
    {
     "name": "stdout",
     "output_type": "stream",
     "text": [
      "Hello World!\n",
      "Hello World!\n",
      "Hello World!\n",
      "Hello World!\n",
      "Hello World!\n"
     ]
    }
   ],
   "source": [
    "for i in range(5):\n",
    "    print('Hello World!')"
   ]
  },
  {
   "cell_type": "code",
   "execution_count": 5,
   "id": "d6ad0c0d",
   "metadata": {},
   "outputs": [
    {
     "name": "stdout",
     "output_type": "stream",
     "text": [
      "4\n"
     ]
    }
   ],
   "source": [
    "print(i)"
   ]
  },
  {
   "cell_type": "code",
   "execution_count": 6,
   "id": "0d1c1212",
   "metadata": {},
   "outputs": [
    {
     "name": "stdout",
     "output_type": "stream",
     "text": [
      "Value of i is 0\n",
      "Value of i is 1\n",
      "Value of i is 2\n",
      "Value of i is 3\n",
      "Value of i is 4\n"
     ]
    }
   ],
   "source": [
    "for i in range(5):\n",
    "    print('Value of i is',i)"
   ]
  },
  {
   "cell_type": "code",
   "execution_count": 7,
   "id": "5377ebe9",
   "metadata": {},
   "outputs": [],
   "source": [
    "cities = ['Nagpur','Mumbai','Pune','Hyderabad','Chennai']"
   ]
  },
  {
   "cell_type": "code",
   "execution_count": 8,
   "id": "1da24597",
   "metadata": {},
   "outputs": [
    {
     "data": {
      "text/plain": [
       "['Nagpur', 'Mumbai', 'Pune', 'Hyderabad', 'Chennai']"
      ]
     },
     "execution_count": 8,
     "metadata": {},
     "output_type": "execute_result"
    }
   ],
   "source": [
    "cities"
   ]
  },
  {
   "cell_type": "code",
   "execution_count": 9,
   "id": "1ed59781",
   "metadata": {},
   "outputs": [
    {
     "name": "stdout",
     "output_type": "stream",
     "text": [
      "I love Nagpur\n",
      "I love Mumbai\n",
      "I love Pune\n",
      "I love Hyderabad\n",
      "I love Chennai\n"
     ]
    }
   ],
   "source": [
    "for city in cities:\n",
    "    print('I love',city)"
   ]
  },
  {
   "cell_type": "code",
   "execution_count": 10,
   "id": "bc3b4faa",
   "metadata": {},
   "outputs": [
    {
     "name": "stdout",
     "output_type": "stream",
     "text": [
      "Value of City is Chennai\n"
     ]
    }
   ],
   "source": [
    "print('Value of City is',city)"
   ]
  },
  {
   "cell_type": "markdown",
   "id": "d58c16d4",
   "metadata": {},
   "source": [
    "# Try printing I love cities in reverse order from above example."
   ]
  },
  {
   "cell_type": "code",
   "execution_count": 13,
   "id": "758d1b4f",
   "metadata": {},
   "outputs": [
    {
     "data": {
      "text/plain": [
       "['Nagpur', 'Mumbai', 'Pune', 'Hyderabad', 'Chennai']"
      ]
     },
     "execution_count": 13,
     "metadata": {},
     "output_type": "execute_result"
    }
   ],
   "source": [
    "cities"
   ]
  },
  {
   "cell_type": "code",
   "execution_count": 11,
   "id": "c5e136d5",
   "metadata": {},
   "outputs": [
    {
     "data": {
      "text/plain": [
       "['Chennai', 'Hyderabad', 'Pune', 'Mumbai', 'Nagpur']"
      ]
     },
     "execution_count": 11,
     "metadata": {},
     "output_type": "execute_result"
    }
   ],
   "source": [
    "cities[::-1]"
   ]
  },
  {
   "cell_type": "code",
   "execution_count": 12,
   "id": "6dc48bb7",
   "metadata": {},
   "outputs": [
    {
     "name": "stdout",
     "output_type": "stream",
     "text": [
      "I love Chennai\n",
      "I love Hyderabad\n",
      "I love Pune\n",
      "I love Mumbai\n",
      "I love Nagpur\n"
     ]
    }
   ],
   "source": [
    "for city in cities[::-1]:\n",
    "    print('I love',city)"
   ]
  },
  {
   "cell_type": "code",
   "execution_count": 14,
   "id": "ecd42a82",
   "metadata": {},
   "outputs": [
    {
     "name": "stdout",
     "output_type": "stream",
     "text": [
      "I love Nagpur\n",
      "I love Pune\n",
      "I love Chennai\n"
     ]
    }
   ],
   "source": [
    "for city in cities[::2]:\n",
    "    print('I love',city)"
   ]
  },
  {
   "cell_type": "code",
   "execution_count": 15,
   "id": "1fda0171",
   "metadata": {},
   "outputs": [
    {
     "name": "stdout",
     "output_type": "stream",
     "text": [
      "I\n",
      "n\n",
      "d\n",
      "i\n",
      "a\n"
     ]
    }
   ],
   "source": [
    "for i in 'India':\n",
    "    print(i)"
   ]
  },
  {
   "cell_type": "markdown",
   "id": "ff9dc438",
   "metadata": {},
   "source": [
    "# Using for Loop calculate sum of numbers in the list l1."
   ]
  },
  {
   "cell_type": "code",
   "execution_count": 16,
   "id": "71a8c391",
   "metadata": {},
   "outputs": [],
   "source": [
    "l1 = [55,32,54,23,88,55,34,49]"
   ]
  },
  {
   "cell_type": "code",
   "execution_count": 17,
   "id": "50e731b4",
   "metadata": {},
   "outputs": [
    {
     "name": "stdout",
     "output_type": "stream",
     "text": [
      "Sum of values in L1 is 390\n"
     ]
    }
   ],
   "source": [
    "a = 0\n",
    "for i in l1:\n",
    "    a = a + i\n",
    "print('Sum of values in L1 is',a)"
   ]
  },
  {
   "cell_type": "code",
   "execution_count": 18,
   "id": "a81b0e2d",
   "metadata": {},
   "outputs": [
    {
     "data": {
      "text/plain": [
       "{'A': 10, 'B': 20, 'C': 30}"
      ]
     },
     "execution_count": 18,
     "metadata": {},
     "output_type": "execute_result"
    }
   ],
   "source": [
    "d = {'A':10,'B':20,'C':30}\n",
    "d"
   ]
  },
  {
   "cell_type": "code",
   "execution_count": 19,
   "id": "e033108f",
   "metadata": {},
   "outputs": [
    {
     "name": "stdout",
     "output_type": "stream",
     "text": [
      "A\n",
      "B\n",
      "C\n"
     ]
    }
   ],
   "source": [
    "for i in d:\n",
    "    print(i)"
   ]
  },
  {
   "cell_type": "markdown",
   "id": "2486dc6a",
   "metadata": {},
   "source": [
    "# Convert Below given D1's from Dict to a list."
   ]
  },
  {
   "cell_type": "code",
   "execution_count": 20,
   "id": "eafd33c2",
   "metadata": {},
   "outputs": [
    {
     "data": {
      "text/plain": [
       "{'A': 'Alpha', 'B': 'Beta', 'C': 'Gamma'}"
      ]
     },
     "execution_count": 20,
     "metadata": {},
     "output_type": "execute_result"
    }
   ],
   "source": [
    "d1 = {'A':'Alpha','B':'Beta','C':'Gamma'}\n",
    "d1"
   ]
  },
  {
   "cell_type": "code",
   "execution_count": 21,
   "id": "1264460a",
   "metadata": {},
   "outputs": [
    {
     "name": "stdout",
     "output_type": "stream",
     "text": [
      "A\n",
      "B\n",
      "C\n"
     ]
    }
   ],
   "source": [
    "for i in d1:\n",
    "    print(i)"
   ]
  },
  {
   "cell_type": "code",
   "execution_count": 22,
   "id": "c892ff32",
   "metadata": {},
   "outputs": [
    {
     "name": "stdout",
     "output_type": "stream",
     "text": [
      "Alpha\n",
      "Beta\n",
      "Gamma\n"
     ]
    }
   ],
   "source": [
    "for i in d1:\n",
    "    print(d1[i])"
   ]
  },
  {
   "cell_type": "code",
   "execution_count": 23,
   "id": "8d75040d",
   "metadata": {},
   "outputs": [
    {
     "name": "stdout",
     "output_type": "stream",
     "text": [
      "['A', 'Alpha', 'B', 'Beta', 'C', 'Gamma']\n"
     ]
    }
   ],
   "source": [
    "l1 = []\n",
    "for i in d1:\n",
    "    l1.append(i)\n",
    "    l1.append(d1[i])\n",
    "print(l1)"
   ]
  },
  {
   "cell_type": "code",
   "execution_count": 25,
   "id": "8aa0be53",
   "metadata": {},
   "outputs": [
    {
     "name": "stdout",
     "output_type": "stream",
     "text": [
      "['A', 'Alpha', 'B', 'Beta', 'C', 'Gamma']\n"
     ]
    }
   ],
   "source": [
    "l1 = []\n",
    "for i in d1.items():\n",
    "    l1.extend(i)\n",
    "print(l1)"
   ]
  },
  {
   "cell_type": "code",
   "execution_count": 26,
   "id": "4778c5cc",
   "metadata": {},
   "outputs": [
    {
     "name": "stdout",
     "output_type": "stream",
     "text": [
      "A\n",
      "Alpha\n",
      "B\n",
      "Beta\n",
      "C\n",
      "Gamma\n"
     ]
    }
   ],
   "source": [
    "l1 = []\n",
    "for i,j in d1.items():\n",
    "    print(i)\n",
    "    print(j)"
   ]
  },
  {
   "cell_type": "markdown",
   "id": "aa4ea614",
   "metadata": {},
   "source": [
    "# Take the number from the user and print the table of that number."
   ]
  },
  {
   "cell_type": "code",
   "execution_count": 27,
   "id": "cdaac841",
   "metadata": {},
   "outputs": [
    {
     "name": "stdout",
     "output_type": "stream",
     "text": [
      "Please enter a number 5\n",
      "5 X 1 = 5\n",
      "5 X 2 = 10\n",
      "5 X 3 = 15\n",
      "5 X 4 = 20\n",
      "5 X 5 = 25\n",
      "5 X 6 = 30\n",
      "5 X 7 = 35\n",
      "5 X 8 = 40\n",
      "5 X 9 = 45\n",
      "5 X 10 = 50\n"
     ]
    }
   ],
   "source": [
    "a = int(input(\"Please enter a number \"))\n",
    "for i in range(1,11):\n",
    "    print(a,'X',i,'=',a*i)"
   ]
  },
  {
   "cell_type": "code",
   "execution_count": 29,
   "id": "1581de12",
   "metadata": {},
   "outputs": [
    {
     "data": {
      "text/plain": [
       "(('A', 10), ('B', 20), ('C', 20))"
      ]
     },
     "execution_count": 29,
     "metadata": {},
     "output_type": "execute_result"
    }
   ],
   "source": [
    "t1 = (('A',10),('B',20),('C',20))\n",
    "t1"
   ]
  },
  {
   "cell_type": "code",
   "execution_count": 30,
   "id": "d3a375d5",
   "metadata": {},
   "outputs": [
    {
     "name": "stdout",
     "output_type": "stream",
     "text": [
      "A\n",
      "10\n",
      "B\n",
      "20\n",
      "C\n",
      "20\n"
     ]
    }
   ],
   "source": [
    "for i,j in t1:\n",
    "    print(i)\n",
    "    print(j)"
   ]
  },
  {
   "cell_type": "code",
   "execution_count": 31,
   "id": "423cb87f",
   "metadata": {},
   "outputs": [
    {
     "name": "stdout",
     "output_type": "stream",
     "text": [
      "('A', 10)\n",
      "('B', 20)\n",
      "('C', 20)\n"
     ]
    }
   ],
   "source": [
    "for i in t1:\n",
    "    print(i)"
   ]
  },
  {
   "cell_type": "markdown",
   "id": "28ed8e17",
   "metadata": {},
   "source": [
    "# Nested For Loop"
   ]
  },
  {
   "cell_type": "code",
   "execution_count": 32,
   "id": "3ccc1261",
   "metadata": {},
   "outputs": [
    {
     "name": "stdout",
     "output_type": "stream",
     "text": [
      "A\n",
      "10\n",
      "B\n",
      "20\n",
      "C\n",
      "20\n"
     ]
    }
   ],
   "source": [
    "for i in t1:\n",
    "    for j in i:\n",
    "        print(j)"
   ]
  },
  {
   "cell_type": "markdown",
   "id": "6cad4222",
   "metadata": {},
   "source": [
    "# While Loop"
   ]
  },
  {
   "cell_type": "code",
   "execution_count": 37,
   "id": "5d8454bd",
   "metadata": {},
   "outputs": [],
   "source": [
    "a = 1"
   ]
  },
  {
   "cell_type": "code",
   "execution_count": 38,
   "id": "f23dad9b",
   "metadata": {},
   "outputs": [
    {
     "name": "stdout",
     "output_type": "stream",
     "text": [
      "Hello World!\n",
      "Hello World!\n",
      "Hello World!\n",
      "Hello World!\n",
      "Hello World!\n"
     ]
    }
   ],
   "source": [
    "while ( a <= 5 ):\n",
    "    print('Hello World!')\n",
    "    a = a + 1"
   ]
  },
  {
   "cell_type": "code",
   "execution_count": 42,
   "id": "e5c19f2e",
   "metadata": {},
   "outputs": [
    {
     "name": "stdout",
     "output_type": "stream",
     "text": [
      "Value of a is 6\n"
     ]
    }
   ],
   "source": [
    "print('Value of a is',a)"
   ]
  },
  {
   "cell_type": "markdown",
   "id": "94a192d2",
   "metadata": {},
   "source": [
    "# Note : While Loop can run a infinite loop. -  While True."
   ]
  },
  {
   "cell_type": "markdown",
   "id": "7d706ea5",
   "metadata": {},
   "source": [
    "# Break Statement"
   ]
  },
  {
   "cell_type": "markdown",
   "id": "c973b2fb",
   "metadata": {},
   "source": [
    "- Break is used to Break / Stop the loop w.r.t a condition."
   ]
  },
  {
   "cell_type": "code",
   "execution_count": 4,
   "id": "4ed88425",
   "metadata": {},
   "outputs": [
    {
     "name": "stdout",
     "output_type": "stream",
     "text": [
      "Value if i is B\n",
      "Value if i is a\n",
      "Value if i is n\n",
      "Value if i is g\n",
      "Value if i is a\n",
      "Value l found. Hence Break statement executed.\n"
     ]
    }
   ],
   "source": [
    "for i in 'Bangalore':\n",
    "    if (i == 'l'):\n",
    "        print('Value l found. Hence Break statement executed.')\n",
    "        break\n",
    "    print('Value if i is',i)"
   ]
  },
  {
   "cell_type": "code",
   "execution_count": 5,
   "id": "90bceac1",
   "metadata": {},
   "outputs": [],
   "source": [
    "l1 = [55,32,54,23,88,55,34,49]"
   ]
  },
  {
   "cell_type": "markdown",
   "id": "0afaadad",
   "metadata": {},
   "source": [
    "# Write a program to break the loop when number divisible by 8 is found."
   ]
  },
  {
   "cell_type": "code",
   "execution_count": 6,
   "id": "875242cd",
   "metadata": {},
   "outputs": [
    {
     "name": "stdout",
     "output_type": "stream",
     "text": [
      "Value is 55\n",
      "Value is 32\n",
      "Value 32 is divisible by 8.\n"
     ]
    }
   ],
   "source": [
    "for i in l1:\n",
    "    print('Value is',i)\n",
    "    if (i%8==0):\n",
    "        print('Value',i,'is divisible by 8.')\n",
    "        break"
   ]
  },
  {
   "cell_type": "markdown",
   "id": "ca9c3290",
   "metadata": {},
   "source": [
    "# Continue"
   ]
  },
  {
   "cell_type": "markdown",
   "id": "b4361bb4",
   "metadata": {},
   "source": [
    "- Continue will skip the current iteration and move to the next one."
   ]
  },
  {
   "cell_type": "code",
   "execution_count": 7,
   "id": "c189f7fb",
   "metadata": {},
   "outputs": [
    {
     "name": "stdout",
     "output_type": "stream",
     "text": [
      "Value is B\n",
      "Value is a\n",
      "Value is n\n",
      "Value is g\n",
      "Value is a\n",
      "Value is o\n",
      "Value is r\n",
      "Value is e\n"
     ]
    }
   ],
   "source": [
    "for i in 'Bangalore':\n",
    "    if (i == 'l'):\n",
    "        continue\n",
    "    print('Value is',i)\n"
   ]
  },
  {
   "cell_type": "markdown",
   "id": "02acc6d8",
   "metadata": {},
   "source": [
    "# Write a program to print all the even numbers using for and continue."
   ]
  },
  {
   "cell_type": "code",
   "execution_count": 8,
   "id": "79458411",
   "metadata": {},
   "outputs": [],
   "source": [
    "l1 = [55,32,54,23,88,55,34,49]"
   ]
  },
  {
   "cell_type": "code",
   "execution_count": 9,
   "id": "88e9c03e",
   "metadata": {},
   "outputs": [
    {
     "name": "stdout",
     "output_type": "stream",
     "text": [
      "32\n",
      "54\n",
      "88\n",
      "34\n"
     ]
    }
   ],
   "source": [
    "for i in l1:\n",
    "    if(i%2==1):\n",
    "        continue\n",
    "    print(i)"
   ]
  },
  {
   "cell_type": "code",
   "execution_count": 10,
   "id": "e5574379",
   "metadata": {},
   "outputs": [
    {
     "name": "stdout",
     "output_type": "stream",
     "text": [
      "[1, 4, 9, 16, 25]\n"
     ]
    }
   ],
   "source": [
    "l1 = [1,2,3,4,5]\n",
    "l2 = []\n",
    "for i in l1:\n",
    "    l2.append(i**2)\n",
    "print(l2)"
   ]
  },
  {
   "cell_type": "markdown",
   "id": "4c79128e",
   "metadata": {},
   "source": [
    "# List Comprehension"
   ]
  },
  {
   "cell_type": "code",
   "execution_count": 12,
   "id": "7acfe833",
   "metadata": {},
   "outputs": [
    {
     "data": {
      "text/plain": [
       "[1, 4, 9, 16, 25]"
      ]
     },
     "execution_count": 12,
     "metadata": {},
     "output_type": "execute_result"
    }
   ],
   "source": [
    "l2 = [i**2 for i in l1]\n",
    "l2"
   ]
  },
  {
   "cell_type": "code",
   "execution_count": 14,
   "id": "f359d23c",
   "metadata": {},
   "outputs": [
    {
     "data": {
      "text/plain": [
       "['Nagpur', 'Mumbai', 'Pune', 'Hyderabad', 'Chennai']"
      ]
     },
     "execution_count": 14,
     "metadata": {},
     "output_type": "execute_result"
    }
   ],
   "source": [
    "cities = ['Nagpur','Mumbai','Pune','Hyderabad','Chennai']\n",
    "cities"
   ]
  },
  {
   "cell_type": "code",
   "execution_count": 15,
   "id": "56fa2aa5",
   "metadata": {},
   "outputs": [
    {
     "data": {
      "text/plain": [
       "'NAGPUR'"
      ]
     },
     "execution_count": 15,
     "metadata": {},
     "output_type": "execute_result"
    }
   ],
   "source": [
    "cities[0].upper()"
   ]
  },
  {
   "cell_type": "code",
   "execution_count": 16,
   "id": "126c32d3",
   "metadata": {},
   "outputs": [
    {
     "data": {
      "text/plain": [
       "['NAGPUR', 'MUMBAI', 'PUNE', 'HYDERABAD', 'CHENNAI']"
      ]
     },
     "execution_count": 16,
     "metadata": {},
     "output_type": "execute_result"
    }
   ],
   "source": [
    "[i.upper() for i in cities]"
   ]
  },
  {
   "cell_type": "code",
   "execution_count": 21,
   "id": "34b17281",
   "metadata": {},
   "outputs": [
    {
     "data": {
      "text/plain": [
       "[[1], [4], [9], [16], [25]]"
      ]
     },
     "execution_count": 21,
     "metadata": {},
     "output_type": "execute_result"
    }
   ],
   "source": [
    "[[i**2] for i in l1]"
   ]
  },
  {
   "cell_type": "code",
   "execution_count": 20,
   "id": "3efdd6ea",
   "metadata": {},
   "outputs": [
    {
     "data": {
      "text/plain": [
       "[[1, 1], [4, 8], [9, 27], [16, 64], [25, 125]]"
      ]
     },
     "execution_count": 20,
     "metadata": {},
     "output_type": "execute_result"
    }
   ],
   "source": [
    "[[i**2,i**3] for i in l1]"
   ]
  },
  {
   "cell_type": "markdown",
   "id": "f19c9bb7",
   "metadata": {},
   "source": [
    "# If in List Comprehension"
   ]
  },
  {
   "cell_type": "code",
   "execution_count": 22,
   "id": "5d650269",
   "metadata": {},
   "outputs": [],
   "source": [
    "l1 = [55,32,54,23,88,55,34,49]"
   ]
  },
  {
   "cell_type": "code",
   "execution_count": 24,
   "id": "060d0eb6",
   "metadata": {},
   "outputs": [
    {
     "data": {
      "text/plain": [
       "[32, 54, 88, 34]"
      ]
     },
     "execution_count": 24,
     "metadata": {},
     "output_type": "execute_result"
    }
   ],
   "source": [
    "[i for i in l1 if i%2==0]"
   ]
  },
  {
   "cell_type": "markdown",
   "id": "fb7184ba",
   "metadata": {},
   "source": [
    "# If and Else in List Comprehension"
   ]
  },
  {
   "cell_type": "code",
   "execution_count": 25,
   "id": "1d5de50a",
   "metadata": {},
   "outputs": [
    {
     "data": {
      "text/plain": [
       "['Odd', 'Even', 'Even', 'Odd', 'Even', 'Odd', 'Even', 'Odd']"
      ]
     },
     "execution_count": 25,
     "metadata": {},
     "output_type": "execute_result"
    }
   ],
   "source": [
    "['Even' if i%2==0 else 'Odd' for i in l1]"
   ]
  },
  {
   "cell_type": "code",
   "execution_count": 26,
   "id": "18d084ef",
   "metadata": {},
   "outputs": [
    {
     "data": {
      "text/plain": [
       "[55, 32, 54, 23, 88, 55, 34, 49]"
      ]
     },
     "execution_count": 26,
     "metadata": {},
     "output_type": "execute_result"
    }
   ],
   "source": [
    "l1"
   ]
  },
  {
   "cell_type": "code",
   "execution_count": null,
   "id": "ed48fb3d",
   "metadata": {},
   "outputs": [],
   "source": []
  }
 ],
 "metadata": {
  "kernelspec": {
   "display_name": "Python 3",
   "language": "python",
   "name": "python3"
  },
  "language_info": {
   "codemirror_mode": {
    "name": "ipython",
    "version": 3
   },
   "file_extension": ".py",
   "mimetype": "text/x-python",
   "name": "python",
   "nbconvert_exporter": "python",
   "pygments_lexer": "ipython3",
   "version": "3.8.8"
  }
 },
 "nbformat": 4,
 "nbformat_minor": 5
}
