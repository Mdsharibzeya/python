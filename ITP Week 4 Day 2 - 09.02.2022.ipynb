{
 "cells": [
  {
   "cell_type": "markdown",
   "id": "7547a579",
   "metadata": {},
   "source": [
    "# Doubt Question"
   ]
  },
  {
   "cell_type": "code",
   "execution_count": 1,
   "id": "807cc626",
   "metadata": {},
   "outputs": [],
   "source": [
    "def function1(var,*args):\n",
    "    print('Required Argument',list(range(var)))\n",
    "    for i in args:\n",
    "        print('Variable Argument',list(range(i)))"
   ]
  },
  {
   "cell_type": "code",
   "execution_count": 2,
   "id": "6751f7d6",
   "metadata": {},
   "outputs": [
    {
     "name": "stdout",
     "output_type": "stream",
     "text": [
      "Required Argument [0, 1, 2, 3, 4]\n",
      "Variable Argument [0, 1, 2]\n",
      "Variable Argument [0, 1, 2, 3, 4, 5]\n"
     ]
    }
   ],
   "source": [
    "function1(5,3,6)"
   ]
  },
  {
   "cell_type": "code",
   "execution_count": 3,
   "id": "f92dfe7d",
   "metadata": {},
   "outputs": [],
   "source": [
    "def function2(start,*args):\n",
    "    for i in args:\n",
    "        print('Variable Argument',list(range(start,i)))"
   ]
  },
  {
   "cell_type": "code",
   "execution_count": 4,
   "id": "946dd412",
   "metadata": {},
   "outputs": [
    {
     "name": "stdout",
     "output_type": "stream",
     "text": [
      "Variable Argument [5, 6, 7, 8, 9]\n",
      "Variable Argument [5, 6]\n"
     ]
    }
   ],
   "source": [
    "function2(5,10,7)"
   ]
  },
  {
   "cell_type": "markdown",
   "id": "6c17c256",
   "metadata": {},
   "source": [
    "# Lambda Function "
   ]
  },
  {
   "cell_type": "code",
   "execution_count": 5,
   "id": "3b282667",
   "metadata": {},
   "outputs": [],
   "source": [
    "sqrit = lambda x : x ** 2"
   ]
  },
  {
   "cell_type": "code",
   "execution_count": 6,
   "id": "b01d912a",
   "metadata": {},
   "outputs": [
    {
     "data": {
      "text/plain": [
       "100"
      ]
     },
     "execution_count": 6,
     "metadata": {},
     "output_type": "execute_result"
    }
   ],
   "source": [
    "sqrit(10)"
   ]
  },
  {
   "cell_type": "code",
   "execution_count": 8,
   "id": "75b5e9c1",
   "metadata": {},
   "outputs": [
    {
     "data": {
      "text/plain": [
       "25"
      ]
     },
     "execution_count": 8,
     "metadata": {},
     "output_type": "execute_result"
    }
   ],
   "source": [
    "sqrit(5)"
   ]
  },
  {
   "cell_type": "markdown",
   "id": "41c87e4c",
   "metadata": {},
   "source": [
    "# Q1. Write a program to return sum of two number."
   ]
  },
  {
   "cell_type": "code",
   "execution_count": 10,
   "id": "b0f5efb0",
   "metadata": {},
   "outputs": [],
   "source": [
    "adder =  lambda a,b : a + b"
   ]
  },
  {
   "cell_type": "code",
   "execution_count": 11,
   "id": "87b7a69f",
   "metadata": {},
   "outputs": [
    {
     "data": {
      "text/plain": [
       "30"
      ]
     },
     "execution_count": 11,
     "metadata": {},
     "output_type": "execute_result"
    }
   ],
   "source": [
    "adder(10,20)"
   ]
  },
  {
   "cell_type": "markdown",
   "id": "3f6ac89c",
   "metadata": {},
   "source": [
    "# Q2. Write a program to return largest number from two numbers."
   ]
  },
  {
   "cell_type": "code",
   "execution_count": 12,
   "id": "daad4ca6",
   "metadata": {},
   "outputs": [],
   "source": [
    "def greater(a,b):\n",
    "    if ( a > b ):\n",
    "        return a\n",
    "    else:\n",
    "        return b"
   ]
  },
  {
   "cell_type": "code",
   "execution_count": 13,
   "id": "0833cc59",
   "metadata": {},
   "outputs": [
    {
     "data": {
      "text/plain": [
       "20"
      ]
     },
     "execution_count": 13,
     "metadata": {},
     "output_type": "execute_result"
    }
   ],
   "source": [
    "greater(10,20)"
   ]
  },
  {
   "cell_type": "code",
   "execution_count": 14,
   "id": "be14c53b",
   "metadata": {},
   "outputs": [
    {
     "data": {
      "text/plain": [
       "50"
      ]
     },
     "execution_count": 14,
     "metadata": {},
     "output_type": "execute_result"
    }
   ],
   "source": [
    "greater(50,20)"
   ]
  },
  {
   "cell_type": "code",
   "execution_count": 15,
   "id": "e72f1174",
   "metadata": {},
   "outputs": [
    {
     "name": "stdout",
     "output_type": "stream",
     "text": [
      "10\n"
     ]
    }
   ],
   "source": [
    "print(greater(10,5))"
   ]
  },
  {
   "cell_type": "code",
   "execution_count": 18,
   "id": "b4c61fe6",
   "metadata": {},
   "outputs": [],
   "source": [
    "greater1 = lambda x,y : x if x > y else y"
   ]
  },
  {
   "cell_type": "code",
   "execution_count": 19,
   "id": "fa3c66e1",
   "metadata": {},
   "outputs": [
    {
     "data": {
      "text/plain": [
       "20"
      ]
     },
     "execution_count": 19,
     "metadata": {},
     "output_type": "execute_result"
    }
   ],
   "source": [
    "greater1(10,20)"
   ]
  },
  {
   "cell_type": "code",
   "execution_count": 20,
   "id": "ab4355b0",
   "metadata": {},
   "outputs": [
    {
     "data": {
      "text/plain": [
       "20"
      ]
     },
     "execution_count": 20,
     "metadata": {},
     "output_type": "execute_result"
    }
   ],
   "source": [
    "greater1(20,10)"
   ]
  },
  {
   "cell_type": "markdown",
   "id": "bf8b16d4",
   "metadata": {},
   "source": [
    "## Q3. Write a program to check if two strings are equal or not. Return True/False"
   ]
  },
  {
   "cell_type": "code",
   "execution_count": 22,
   "id": "75d80769",
   "metadata": {},
   "outputs": [],
   "source": [
    "compare = lambda s1,s2 : True if s1 == s2 else False"
   ]
  },
  {
   "cell_type": "code",
   "execution_count": 23,
   "id": "23c6b7c7",
   "metadata": {},
   "outputs": [
    {
     "data": {
      "text/plain": [
       "False"
      ]
     },
     "execution_count": 23,
     "metadata": {},
     "output_type": "execute_result"
    }
   ],
   "source": [
    "compare('India','INDIA')"
   ]
  },
  {
   "cell_type": "code",
   "execution_count": 24,
   "id": "0ce33858",
   "metadata": {},
   "outputs": [
    {
     "data": {
      "text/plain": [
       "True"
      ]
     },
     "execution_count": 24,
     "metadata": {},
     "output_type": "execute_result"
    }
   ],
   "source": [
    "compare('India','India')"
   ]
  },
  {
   "cell_type": "markdown",
   "id": "1cd45692",
   "metadata": {},
   "source": [
    "# Lambda with Map()"
   ]
  },
  {
   "cell_type": "code",
   "execution_count": 25,
   "id": "0688fbd1",
   "metadata": {},
   "outputs": [],
   "source": [
    "l1 = [1,2,3,4,5]"
   ]
  },
  {
   "cell_type": "code",
   "execution_count": 26,
   "id": "eb02bd0b",
   "metadata": {},
   "outputs": [
    {
     "name": "stdout",
     "output_type": "stream",
     "text": [
      "[1, 4, 9, 16, 25]\n"
     ]
    }
   ],
   "source": [
    "l2 = []\n",
    "for i in l1:\n",
    "    l2.append(i**2)\n",
    "print(l2)"
   ]
  },
  {
   "cell_type": "code",
   "execution_count": 27,
   "id": "e5f0853c",
   "metadata": {},
   "outputs": [
    {
     "data": {
      "text/plain": [
       "[1, 4, 9, 16, 25]"
      ]
     },
     "execution_count": 27,
     "metadata": {},
     "output_type": "execute_result"
    }
   ],
   "source": [
    "l2 = [i ** 2 for i in l1]\n",
    "l2"
   ]
  },
  {
   "cell_type": "code",
   "execution_count": 28,
   "id": "c0cf7acc",
   "metadata": {},
   "outputs": [
    {
     "data": {
      "text/plain": [
       "[1, 2, 3, 4, 5]"
      ]
     },
     "execution_count": 28,
     "metadata": {},
     "output_type": "execute_result"
    }
   ],
   "source": [
    "l1"
   ]
  },
  {
   "cell_type": "code",
   "execution_count": 29,
   "id": "b42a99ac",
   "metadata": {},
   "outputs": [
    {
     "data": {
      "text/plain": [
       "[1, 4, 9, 16, 25]"
      ]
     },
     "execution_count": 29,
     "metadata": {},
     "output_type": "execute_result"
    }
   ],
   "source": [
    "list(map(lambda x : x ** 2 , l1))"
   ]
  },
  {
   "cell_type": "code",
   "execution_count": 30,
   "id": "9639ecaa",
   "metadata": {},
   "outputs": [],
   "source": [
    "l1 = [1,2,3,4]\n",
    "t1 = (2,4,3,6)\n",
    "l2 = [2,5,3,7]"
   ]
  },
  {
   "cell_type": "code",
   "execution_count": 40,
   "id": "2f1879b0",
   "metadata": {},
   "outputs": [
    {
     "data": {
      "text/plain": [
       "([1, 2, 3, 4, 1, 2, 3, 4], (2, 4, 3, 6, 2, 4, 3, 6), [2, 5, 3, 7, 2, 5, 3, 7])"
      ]
     },
     "execution_count": 40,
     "metadata": {},
     "output_type": "execute_result"
    }
   ],
   "source": [
    "tuple(map(lambda x : x * 2,(l1,t1,l2)))"
   ]
  },
  {
   "cell_type": "code",
   "execution_count": 41,
   "id": "1ade005a",
   "metadata": {},
   "outputs": [
    {
     "data": {
      "text/plain": [
       "[[1, 2, 3, 4, 1, 2, 3, 4], (2, 4, 3, 6, 2, 4, 3, 6), [2, 5, 3, 7, 2, 5, 3, 7]]"
      ]
     },
     "execution_count": 41,
     "metadata": {},
     "output_type": "execute_result"
    }
   ],
   "source": [
    "list(map(lambda x : x * 2,(l1,t1,l2)))"
   ]
  },
  {
   "cell_type": "markdown",
   "id": "6940f137",
   "metadata": {},
   "source": [
    "# Q5. Calculate Percentages considering marks out of 50."
   ]
  },
  {
   "cell_type": "code",
   "execution_count": 44,
   "id": "6d70dba8",
   "metadata": {},
   "outputs": [],
   "source": [
    "marks = [35,45,50,23,44,34,21,23,27]"
   ]
  },
  {
   "cell_type": "code",
   "execution_count": 45,
   "id": "f3ba0640",
   "metadata": {},
   "outputs": [
    {
     "data": {
      "text/plain": [
       "[70.0, 90.0, 100.0, 46.0, 88.0, 68.0, 42.0, 46.0, 54.0]"
      ]
     },
     "execution_count": 45,
     "metadata": {},
     "output_type": "execute_result"
    }
   ],
   "source": [
    "list(map(lambda x : x * 100/50,marks))"
   ]
  },
  {
   "cell_type": "code",
   "execution_count": 46,
   "id": "b0f4ea96",
   "metadata": {},
   "outputs": [],
   "source": [
    "l1 = [10,20,30,40,50]\n",
    "l2 = [50,40,30,20,10]"
   ]
  },
  {
   "cell_type": "code",
   "execution_count": 47,
   "id": "4efb16a3",
   "metadata": {},
   "outputs": [
    {
     "data": {
      "text/plain": [
       "[60, 60, 60, 60, 60]"
      ]
     },
     "execution_count": 47,
     "metadata": {},
     "output_type": "execute_result"
    }
   ],
   "source": [
    "list(map(lambda x,y : x + y,l1,l2))"
   ]
  },
  {
   "cell_type": "code",
   "execution_count": 48,
   "id": "e48c0356",
   "metadata": {},
   "outputs": [],
   "source": [
    "l1 = [10,20,30,40,50]\n",
    "l2 = [50,40,30,20,10]\n",
    "l3 = [10,20,30,40,50]"
   ]
  },
  {
   "cell_type": "code",
   "execution_count": 49,
   "id": "3a11a2fa",
   "metadata": {},
   "outputs": [
    {
     "data": {
      "text/plain": [
       "[70, 80, 90, 100, 110]"
      ]
     },
     "execution_count": 49,
     "metadata": {},
     "output_type": "execute_result"
    }
   ],
   "source": [
    "list(map(lambda x,y,z : x + y+z,l1,l2,l3))"
   ]
  },
  {
   "cell_type": "code",
   "execution_count": 50,
   "id": "91bc0eab",
   "metadata": {},
   "outputs": [],
   "source": [
    "l1 = [10,20,30,40,50]\n",
    "l2 = [50,40,30,20,10]\n",
    "l3 = [10,20,30,40]"
   ]
  },
  {
   "cell_type": "code",
   "execution_count": 51,
   "id": "68841797",
   "metadata": {},
   "outputs": [
    {
     "data": {
      "text/plain": [
       "[70, 80, 90, 100]"
      ]
     },
     "execution_count": 51,
     "metadata": {},
     "output_type": "execute_result"
    }
   ],
   "source": [
    "list(map(lambda x,y,z : x + y+z,l1,l2,l3))"
   ]
  },
  {
   "cell_type": "code",
   "execution_count": 52,
   "id": "f48d5df3",
   "metadata": {},
   "outputs": [],
   "source": [
    "d1 = {1:10,2:20,3:30}\n",
    "d2 = {1:100,2:200,3:300}"
   ]
  },
  {
   "cell_type": "code",
   "execution_count": 54,
   "id": "c6fe8760",
   "metadata": {},
   "outputs": [
    {
     "data": {
      "text/plain": [
       "[110, 220, 330]"
      ]
     },
     "execution_count": 54,
     "metadata": {},
     "output_type": "execute_result"
    }
   ],
   "source": [
    "list(map(lambda x,y : x + y,d1.values(),d2.values()))"
   ]
  },
  {
   "cell_type": "code",
   "execution_count": 55,
   "id": "da2639fe",
   "metadata": {},
   "outputs": [
    {
     "data": {
      "text/plain": [
       "{1: 110, 2: 220, 3: 330}"
      ]
     },
     "execution_count": 55,
     "metadata": {},
     "output_type": "execute_result"
    }
   ],
   "source": [
    "dict(zip(d1.keys(),list(map(lambda x,y : x + y,d1.values(),d2.values()))))"
   ]
  },
  {
   "cell_type": "markdown",
   "id": "ad5c7ca5",
   "metadata": {},
   "source": [
    "# Lambda with Filter "
   ]
  },
  {
   "cell_type": "code",
   "execution_count": 56,
   "id": "724968aa",
   "metadata": {},
   "outputs": [
    {
     "data": {
      "text/plain": [
       "[1, 2, 3, 4, 5, 6, 7, 8, 9, 10, 11, 12, 13, 14, 15, 16, 17, 18, 19, 20]"
      ]
     },
     "execution_count": 56,
     "metadata": {},
     "output_type": "execute_result"
    }
   ],
   "source": [
    "l1 = list(range(1,21))\n",
    "l1"
   ]
  },
  {
   "cell_type": "code",
   "execution_count": 57,
   "id": "6547f9c0",
   "metadata": {},
   "outputs": [
    {
     "data": {
      "text/plain": [
       "[2, 4, 6, 8, 10, 12, 14, 16, 18, 20]"
      ]
     },
     "execution_count": 57,
     "metadata": {},
     "output_type": "execute_result"
    }
   ],
   "source": [
    "list(filter(lambda x : x % 2 == 0,l1))"
   ]
  },
  {
   "cell_type": "markdown",
   "id": "744088b4",
   "metadata": {},
   "source": [
    "# Q6. Fetch all the numbers divisible by 7 using filter and lambda."
   ]
  },
  {
   "cell_type": "code",
   "execution_count": 58,
   "id": "790714e1",
   "metadata": {},
   "outputs": [],
   "source": [
    "l1 = [35,45,50,23,44,34,21,23,27]"
   ]
  },
  {
   "cell_type": "code",
   "execution_count": 59,
   "id": "1b4cb723",
   "metadata": {},
   "outputs": [
    {
     "data": {
      "text/plain": [
       "[35, 21]"
      ]
     },
     "execution_count": 59,
     "metadata": {},
     "output_type": "execute_result"
    }
   ],
   "source": [
    "list(filter(lambda x : x % 7 == 0,l1))"
   ]
  },
  {
   "cell_type": "markdown",
   "id": "f1518ead",
   "metadata": {},
   "source": [
    "# Lambda with Reduce"
   ]
  },
  {
   "cell_type": "code",
   "execution_count": 60,
   "id": "943f30ac",
   "metadata": {},
   "outputs": [],
   "source": [
    "from functools import reduce"
   ]
  },
  {
   "cell_type": "code",
   "execution_count": 61,
   "id": "f9f4d5d5",
   "metadata": {},
   "outputs": [],
   "source": [
    "l1 = [1,2,3,4]"
   ]
  },
  {
   "cell_type": "code",
   "execution_count": 62,
   "id": "a8385530",
   "metadata": {},
   "outputs": [
    {
     "data": {
      "text/plain": [
       "10"
      ]
     },
     "execution_count": 62,
     "metadata": {},
     "output_type": "execute_result"
    }
   ],
   "source": [
    "reduce(lambda a,b: a + b, l1)"
   ]
  },
  {
   "cell_type": "markdown",
   "id": "09befbac",
   "metadata": {},
   "source": [
    "# Lambda with Accumulate"
   ]
  },
  {
   "cell_type": "code",
   "execution_count": 63,
   "id": "d21022ec",
   "metadata": {},
   "outputs": [],
   "source": [
    "from itertools import accumulate"
   ]
  },
  {
   "cell_type": "code",
   "execution_count": 64,
   "id": "cfe7d978",
   "metadata": {},
   "outputs": [
    {
     "data": {
      "text/plain": [
       "[1, 2, 3, 4]"
      ]
     },
     "execution_count": 64,
     "metadata": {},
     "output_type": "execute_result"
    }
   ],
   "source": [
    "l1"
   ]
  },
  {
   "cell_type": "code",
   "execution_count": 65,
   "id": "ee290d88",
   "metadata": {},
   "outputs": [
    {
     "data": {
      "text/plain": [
       "[1, 3, 6, 10]"
      ]
     },
     "execution_count": 65,
     "metadata": {},
     "output_type": "execute_result"
    }
   ],
   "source": [
    "list(accumulate(l1,lambda x,y : x + y))"
   ]
  },
  {
   "cell_type": "markdown",
   "id": "3a28880f",
   "metadata": {},
   "source": [
    "# Q8. Find factorial of 5 using reduce."
   ]
  },
  {
   "cell_type": "code",
   "execution_count": 66,
   "id": "983b897f",
   "metadata": {},
   "outputs": [
    {
     "data": {
      "text/plain": [
       "120"
      ]
     },
     "execution_count": 66,
     "metadata": {},
     "output_type": "execute_result"
    }
   ],
   "source": [
    "reduce(lambda x,y : x * y,range(1,6))"
   ]
  },
  {
   "cell_type": "code",
   "execution_count": null,
   "id": "00e75cbe",
   "metadata": {},
   "outputs": [],
   "source": []
  }
 ],
 "metadata": {
  "kernelspec": {
   "display_name": "Python 3",
   "language": "python",
   "name": "python3"
  },
  "language_info": {
   "codemirror_mode": {
    "name": "ipython",
    "version": 3
   },
   "file_extension": ".py",
   "mimetype": "text/x-python",
   "name": "python",
   "nbconvert_exporter": "python",
   "pygments_lexer": "ipython3",
   "version": "3.8.8"
  }
 },
 "nbformat": 4,
 "nbformat_minor": 5
}
