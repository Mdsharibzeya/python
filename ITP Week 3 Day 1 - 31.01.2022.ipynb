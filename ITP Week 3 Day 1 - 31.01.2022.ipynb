{
 "cells": [
  {
   "cell_type": "code",
   "execution_count": 1,
   "id": "fe31fa47",
   "metadata": {},
   "outputs": [],
   "source": [
    "age = 50"
   ]
  },
  {
   "cell_type": "code",
   "execution_count": 2,
   "id": "b5cd6358",
   "metadata": {},
   "outputs": [
    {
     "name": "stdout",
     "output_type": "stream",
     "text": [
      "Person is an Adult.\n"
     ]
    }
   ],
   "source": [
    "if age >= 18:\n",
    "    print('Person is an Adult.')"
   ]
  },
  {
   "cell_type": "code",
   "execution_count": 3,
   "id": "96ec06e1",
   "metadata": {},
   "outputs": [],
   "source": [
    "age = 15"
   ]
  },
  {
   "cell_type": "code",
   "execution_count": 4,
   "id": "3f518bed",
   "metadata": {},
   "outputs": [],
   "source": [
    "if age >= 18:\n",
    "    print('Person is an Adult.')"
   ]
  },
  {
   "cell_type": "code",
   "execution_count": 5,
   "id": "961b1333",
   "metadata": {},
   "outputs": [],
   "source": [
    "if age >=18:\n",
    "    print('Adult')\n",
    "    print('Statement 1')"
   ]
  },
  {
   "cell_type": "code",
   "execution_count": 6,
   "id": "4aa0de6f",
   "metadata": {},
   "outputs": [],
   "source": [
    "age = 20"
   ]
  },
  {
   "cell_type": "code",
   "execution_count": 7,
   "id": "10958384",
   "metadata": {},
   "outputs": [
    {
     "name": "stdout",
     "output_type": "stream",
     "text": [
      "Adult\n",
      "Statement 1\n"
     ]
    }
   ],
   "source": [
    "if age >=18:\n",
    "    print('Adult')\n",
    "    print('Statement 1')"
   ]
  },
  {
   "cell_type": "code",
   "execution_count": 8,
   "id": "22b4137a",
   "metadata": {},
   "outputs": [
    {
     "name": "stdout",
     "output_type": "stream",
     "text": [
      "Adult\n",
      "Statement 1\n",
      "Statement 3\n"
     ]
    }
   ],
   "source": [
    "if age >=18:\n",
    "    print('Adult')\n",
    "    print('Statement 1')\n",
    "print('Statement 3')"
   ]
  },
  {
   "cell_type": "code",
   "execution_count": 9,
   "id": "c24d75ad",
   "metadata": {},
   "outputs": [],
   "source": [
    "age = 15"
   ]
  },
  {
   "cell_type": "code",
   "execution_count": 10,
   "id": "52a7d5a1",
   "metadata": {},
   "outputs": [
    {
     "name": "stdout",
     "output_type": "stream",
     "text": [
      "Statement 3\n"
     ]
    }
   ],
   "source": [
    "if age >=18:\n",
    "    print('Adult')\n",
    "    print('Statement 1')\n",
    "print('Statement 3')"
   ]
  },
  {
   "cell_type": "code",
   "execution_count": 11,
   "id": "b6a2b91f",
   "metadata": {},
   "outputs": [
    {
     "name": "stdout",
     "output_type": "stream",
     "text": [
      "Statement 1\n",
      "Statement 3\n"
     ]
    }
   ],
   "source": [
    "if age >=18:\n",
    "    print('Adult')\n",
    "print('Statement 1')\n",
    "print('Statement 3')"
   ]
  },
  {
   "cell_type": "markdown",
   "id": "253b5164",
   "metadata": {},
   "source": [
    "## Q1. Check if the number is odd. If it is odd print. ( take number input from user. )\n",
    "- Sample output:  Number 21 is odd."
   ]
  },
  {
   "cell_type": "code",
   "execution_count": 13,
   "id": "833c554c",
   "metadata": {},
   "outputs": [
    {
     "name": "stdout",
     "output_type": "stream",
     "text": [
      "Please enter a number 10\n"
     ]
    }
   ],
   "source": [
    "num = int(input('Please enter a number '))\n",
    "if num%2!=0:\n",
    "    print('Number',num,'is odd.')"
   ]
  },
  {
   "cell_type": "code",
   "execution_count": 14,
   "id": "ac761f67",
   "metadata": {},
   "outputs": [
    {
     "name": "stdout",
     "output_type": "stream",
     "text": [
      "Please enter a number 9\n",
      "Number 9 is odd.\n"
     ]
    }
   ],
   "source": [
    "num = int(input('Please enter a number '))\n",
    "if num%2!=0:\n",
    "    print('Number',num,'is odd.')"
   ]
  },
  {
   "cell_type": "code",
   "execution_count": 15,
   "id": "626b94dc",
   "metadata": {},
   "outputs": [
    {
     "name": "stdout",
     "output_type": "stream",
     "text": [
      "Please enter a number 9\n",
      "Number 9 is odd.\n",
      "Number 9 is even.\n"
     ]
    }
   ],
   "source": [
    "num = int(input('Please enter a number '))\n",
    "if num%2!=0:\n",
    "    print('Number',num,'is odd.')\n",
    "print('Number',num,'is even.')"
   ]
  },
  {
   "cell_type": "code",
   "execution_count": 16,
   "id": "cf1662a6",
   "metadata": {},
   "outputs": [
    {
     "name": "stdout",
     "output_type": "stream",
     "text": [
      "Please enter a number 10\n",
      "Number 10 is even.\n"
     ]
    }
   ],
   "source": [
    "num = int(input('Please enter a number '))\n",
    "if num%2!=0:\n",
    "    print('Number',num,'is odd.')\n",
    "print('Number',num,'is even.')"
   ]
  },
  {
   "cell_type": "markdown",
   "id": "1a8ac013",
   "metadata": {},
   "source": [
    "# If Else Statement"
   ]
  },
  {
   "cell_type": "code",
   "execution_count": 17,
   "id": "71210358",
   "metadata": {},
   "outputs": [],
   "source": [
    "age = 20"
   ]
  },
  {
   "cell_type": "code",
   "execution_count": 18,
   "id": "fb0ed9a2",
   "metadata": {},
   "outputs": [
    {
     "name": "stdout",
     "output_type": "stream",
     "text": [
      "The person is an Adult with the age of 20\n"
     ]
    }
   ],
   "source": [
    "if age >= 18:\n",
    "    print('The person is an Adult with the age of',age)"
   ]
  },
  {
   "cell_type": "code",
   "execution_count": 19,
   "id": "fd70f08e",
   "metadata": {},
   "outputs": [
    {
     "name": "stdout",
     "output_type": "stream",
     "text": [
      "The person is an Adult with the age of 20\n"
     ]
    }
   ],
   "source": [
    "if age >= 18:\n",
    "    print('The person is an Adult with the age of',age)\n",
    "else:\n",
    "    print('The person is not an Adult as his/her age is',age)"
   ]
  },
  {
   "cell_type": "code",
   "execution_count": 20,
   "id": "86a2aa4c",
   "metadata": {},
   "outputs": [],
   "source": [
    "age = 15"
   ]
  },
  {
   "cell_type": "code",
   "execution_count": 21,
   "id": "4a9c992d",
   "metadata": {},
   "outputs": [
    {
     "name": "stdout",
     "output_type": "stream",
     "text": [
      "The person is not an Adult as his/her age is 15\n"
     ]
    }
   ],
   "source": [
    "if age >= 18:\n",
    "    print('The person is an Adult with the age of',age)\n",
    "else:\n",
    "    print('The person is not an Adult as his/her age is',age)"
   ]
  },
  {
   "cell_type": "code",
   "execution_count": 22,
   "id": "c814eef1",
   "metadata": {},
   "outputs": [
    {
     "name": "stdout",
     "output_type": "stream",
     "text": [
      "The person is not an Adult as his/her age is 15\n",
      "This statement if neither in If nor in Else.\n"
     ]
    }
   ],
   "source": [
    "if age >= 18:\n",
    "    print('The person is an Adult with the age of',age)\n",
    "else:\n",
    "    print('The person is not an Adult as his/her age is',age)\n",
    "print('This statement if neither in If nor in Else.')"
   ]
  },
  {
   "cell_type": "code",
   "execution_count": 23,
   "id": "c44f33c1",
   "metadata": {},
   "outputs": [],
   "source": [
    "age = 50"
   ]
  },
  {
   "cell_type": "code",
   "execution_count": 24,
   "id": "e7092c36",
   "metadata": {},
   "outputs": [
    {
     "name": "stdout",
     "output_type": "stream",
     "text": [
      "The person is an Adult with the age of 50\n",
      "This statement if neither in If nor in Else.\n"
     ]
    }
   ],
   "source": [
    "if age >= 18:\n",
    "    print('The person is an Adult with the age of',age)\n",
    "else:\n",
    "    print('The person is not an Adult as his/her age is',age)\n",
    "print('This statement if neither in If nor in Else.')"
   ]
  },
  {
   "cell_type": "markdown",
   "id": "5ca56005",
   "metadata": {},
   "source": [
    "## Q1. Write a program to ask user a number and print if it is divisible by 7 or not."
   ]
  },
  {
   "cell_type": "code",
   "execution_count": 25,
   "id": "4bd20bfd",
   "metadata": {},
   "outputs": [
    {
     "name": "stdout",
     "output_type": "stream",
     "text": [
      "Please enter a number40\n",
      "The number 40 is not divisbile by 7.\n"
     ]
    }
   ],
   "source": [
    "num = int(input('Please enter a number'))\n",
    "if num%7==0:\n",
    "    print('The number',num,'is divisible by 7.')\n",
    "else:\n",
    "    print('The number',num,'is not divisbile by 7.')"
   ]
  },
  {
   "cell_type": "code",
   "execution_count": 26,
   "id": "3bc52ed2",
   "metadata": {},
   "outputs": [
    {
     "name": "stdout",
     "output_type": "stream",
     "text": [
      "Please enter a number 42\n",
      "The number 42 is divisible by 7.\n"
     ]
    }
   ],
   "source": [
    "num = int(input('Please enter a number '))\n",
    "if num%7==0:\n",
    "    print('The number',num,'is divisible by 7.')\n",
    "else:\n",
    "    print('The number',num,'is not divisbile by 7.')"
   ]
  },
  {
   "cell_type": "markdown",
   "id": "ebe3dc8e",
   "metadata": {},
   "source": [
    "## Q2. Write a program to take user input and see if the numebr is even or odd."
   ]
  },
  {
   "cell_type": "code",
   "execution_count": 27,
   "id": "7e4ce189",
   "metadata": {},
   "outputs": [
    {
     "name": "stdout",
     "output_type": "stream",
     "text": [
      "Please enter a number 10\n",
      "Number 10 is even.\n"
     ]
    }
   ],
   "source": [
    "num = int(input('Please enter a number '))\n",
    "if num%2!=0:\n",
    "    print('Number',num,'is odd.')\n",
    "else:\n",
    "    print('Number',num,'is even.')"
   ]
  },
  {
   "cell_type": "code",
   "execution_count": 28,
   "id": "24a88d77",
   "metadata": {},
   "outputs": [
    {
     "name": "stdout",
     "output_type": "stream",
     "text": [
      "Please enter a number 9\n",
      "Number 9 is odd.\n"
     ]
    }
   ],
   "source": [
    "num = int(input('Please enter a number '))\n",
    "if num%2!=0:\n",
    "    print('Number',num,'is odd.')\n",
    "else:\n",
    "    print('Number',num,'is even.')"
   ]
  },
  {
   "cell_type": "markdown",
   "id": "68d8a248",
   "metadata": {},
   "source": [
    "## Q3. Write a program to ask user a number and print if it is divible by 7 and 5 both."
   ]
  },
  {
   "cell_type": "code",
   "execution_count": 30,
   "id": "944f0db4",
   "metadata": {},
   "outputs": [
    {
     "name": "stdout",
     "output_type": "stream",
     "text": [
      "Please enter a number 55\n",
      "The number 55 is not divisbile by 5 and 7.\n"
     ]
    }
   ],
   "source": [
    "num = int(input('Please enter a number '))\n",
    "if (num%7==0) and (num%5==0):\n",
    "    print('The number',num,'is divisible by 5 and 7.')\n",
    "else:\n",
    "    print('The number',num,'is not divisbile by 5 and 7.')"
   ]
  },
  {
   "cell_type": "code",
   "execution_count": 31,
   "id": "3e3c43bc",
   "metadata": {},
   "outputs": [
    {
     "name": "stdout",
     "output_type": "stream",
     "text": [
      "Please enter a number 35\n",
      "The number 35 is divisible by 5 and 7.\n"
     ]
    }
   ],
   "source": [
    "num = int(input('Please enter a number '))\n",
    "if (num%7==0) and (num%5==0):\n",
    "    print('The number',num,'is divisible by 5 and 7.')\n",
    "else:\n",
    "    print('The number',num,'is not divisbile by 5 and 7.')"
   ]
  },
  {
   "cell_type": "code",
   "execution_count": 34,
   "id": "726cc315",
   "metadata": {},
   "outputs": [
    {
     "name": "stdout",
     "output_type": "stream",
     "text": [
      "Please enter a number 99\n",
      "The number 99 is not divisbile by 5 and 7.\n"
     ]
    }
   ],
   "source": [
    "num = int(input('Please enter a number '))\n",
    "if num%7==0 and num%5==0:\n",
    "    print('The number',num,'is divisible by 5 and 7.')\n",
    "else:\n",
    "    print('The number',num,'is not divisbile by 5 and 7.')"
   ]
  },
  {
   "cell_type": "markdown",
   "id": "4ef37143",
   "metadata": {},
   "source": [
    "# If Else and Elif"
   ]
  },
  {
   "cell_type": "code",
   "execution_count": 36,
   "id": "2df6f36d",
   "metadata": {},
   "outputs": [],
   "source": [
    "city = 'Mumbai'"
   ]
  },
  {
   "cell_type": "code",
   "execution_count": 37,
   "id": "620ad856",
   "metadata": {},
   "outputs": [
    {
     "name": "stdout",
     "output_type": "stream",
     "text": [
      "It is raining in Mumbai\n"
     ]
    }
   ],
   "source": [
    "if city=='Mumbai':\n",
    "    print('It is raining in',city)"
   ]
  },
  {
   "cell_type": "code",
   "execution_count": 38,
   "id": "53a636c3",
   "metadata": {},
   "outputs": [],
   "source": [
    "city = 'Pune'"
   ]
  },
  {
   "cell_type": "code",
   "execution_count": 39,
   "id": "1426fba1",
   "metadata": {},
   "outputs": [],
   "source": [
    "if city=='Mumbai':\n",
    "    print('It is raining in',city)"
   ]
  },
  {
   "cell_type": "code",
   "execution_count": 40,
   "id": "93363067",
   "metadata": {},
   "outputs": [
    {
     "name": "stdout",
     "output_type": "stream",
     "text": [
      "It is cool in Pune\n"
     ]
    }
   ],
   "source": [
    "if city=='Mumbai':\n",
    "    print('It is raining in',city)\n",
    "elif city == 'Pune':\n",
    "    print('It is cool in',city)"
   ]
  },
  {
   "cell_type": "code",
   "execution_count": 44,
   "id": "e499855e",
   "metadata": {},
   "outputs": [],
   "source": [
    "city = 'Chennai'"
   ]
  },
  {
   "cell_type": "code",
   "execution_count": 45,
   "id": "ca65b62d",
   "metadata": {},
   "outputs": [],
   "source": [
    "if city=='Mumbai':\n",
    "    print('It is raining in',city)\n",
    "elif city == 'Pune':\n",
    "    print('It is cool in',city)"
   ]
  },
  {
   "cell_type": "code",
   "execution_count": 46,
   "id": "c5d99cd3",
   "metadata": {},
   "outputs": [],
   "source": [
    "city = 'Bangalore'"
   ]
  },
  {
   "cell_type": "code",
   "execution_count": 47,
   "id": "cdb89e73",
   "metadata": {},
   "outputs": [],
   "source": [
    "if city=='Mumbai':\n",
    "    print('It is raining in',city)\n",
    "elif city == 'Pune':\n",
    "    print('It is cool in',city)"
   ]
  },
  {
   "cell_type": "code",
   "execution_count": 48,
   "id": "523906a6",
   "metadata": {},
   "outputs": [
    {
     "name": "stdout",
     "output_type": "stream",
     "text": [
      "Not sure how the weather is in Bangalore\n"
     ]
    }
   ],
   "source": [
    "if city=='Mumbai':\n",
    "    print('It is raining in',city)\n",
    "elif city == 'Pune':\n",
    "    print('It is cool in',city)\n",
    "else:\n",
    "    print('Not sure how the weather is in',city)"
   ]
  },
  {
   "cell_type": "code",
   "execution_count": 49,
   "id": "8a244227",
   "metadata": {},
   "outputs": [],
   "source": [
    "city = 'Hyderabad'"
   ]
  },
  {
   "cell_type": "code",
   "execution_count": 50,
   "id": "582301fd",
   "metadata": {},
   "outputs": [
    {
     "name": "stdout",
     "output_type": "stream",
     "text": [
      "Not sure how the weather is in Hyderabad\n"
     ]
    }
   ],
   "source": [
    "if city=='Mumbai':\n",
    "    print('It is raining in',city)\n",
    "elif city == 'Pune':\n",
    "    print('It is cool in',city)\n",
    "else:\n",
    "    print('Not sure how the weather is in',city)"
   ]
  },
  {
   "cell_type": "code",
   "execution_count": 51,
   "id": "5bb4a56e",
   "metadata": {},
   "outputs": [],
   "source": [
    "city = 'Mumbai'"
   ]
  },
  {
   "cell_type": "code",
   "execution_count": 52,
   "id": "a9f42841",
   "metadata": {},
   "outputs": [
    {
     "name": "stdout",
     "output_type": "stream",
     "text": [
      "It is raining in Mumbai\n"
     ]
    }
   ],
   "source": [
    "if city=='Mumbai':\n",
    "    print('It is raining in',city)\n",
    "elif city == 'Pune':\n",
    "    print('It is cool in',city)\n",
    "else:\n",
    "    print('Not sure how the weather is in',city)"
   ]
  },
  {
   "cell_type": "code",
   "execution_count": 54,
   "id": "04938f0a",
   "metadata": {},
   "outputs": [
    {
     "name": "stdout",
     "output_type": "stream",
     "text": [
      "It is raining in Mumbai\n"
     ]
    }
   ],
   "source": [
    "if city=='Mumbai':\n",
    "    print('It is raining in',city)\n",
    "elif city == 'Pune':\n",
    "    print('It is cool in',city)\n",
    "elif city == 'Bangalore':\n",
    "    print('It is cloudy in',city)\n",
    "else:\n",
    "    print('Not sure how the weather is in',city)"
   ]
  },
  {
   "cell_type": "code",
   "execution_count": 55,
   "id": "91a6d82f",
   "metadata": {},
   "outputs": [],
   "source": [
    "city = 'Bangalore'"
   ]
  },
  {
   "cell_type": "code",
   "execution_count": 56,
   "id": "4d605629",
   "metadata": {},
   "outputs": [
    {
     "name": "stdout",
     "output_type": "stream",
     "text": [
      "It is cloudy in Bangalore\n"
     ]
    }
   ],
   "source": [
    "if city=='Mumbai':\n",
    "    print('It is raining in',city)\n",
    "elif city == 'Pune':\n",
    "    print('It is cool in',city)\n",
    "elif city == 'Bangalore':\n",
    "    print('It is cloudy in',city)\n",
    "else:\n",
    "    print('Not sure how the weather is in',city)"
   ]
  },
  {
   "cell_type": "markdown",
   "id": "5bb05737",
   "metadata": {},
   "source": [
    "# Q5. Write a program to ask user his age and then tell him/her their category."
   ]
  },
  {
   "cell_type": "code",
   "execution_count": 61,
   "id": "03354a32",
   "metadata": {},
   "outputs": [
    {
     "name": "stdout",
     "output_type": "stream",
     "text": [
      "Please enter your age 65\n",
      "Elder\n"
     ]
    }
   ],
   "source": [
    "age = int(input('Please enter your age '))\n",
    "if (age > 0 ) and (age < 18):\n",
    "    print('Child')\n",
    "elif (age >= 18) and ( age <= 60):\n",
    "    print('Adult')\n",
    "elif (age > 60):\n",
    "    print('Elder')\n",
    "else:\n",
    "    print('Invalid Entry',age)"
   ]
  },
  {
   "cell_type": "markdown",
   "id": "fcab7eea",
   "metadata": {},
   "source": [
    "# Q6. Write a program to take two numbers as an input from the user as well as the operator and then create a simple calculator program for the the same."
   ]
  },
  {
   "cell_type": "code",
   "execution_count": 67,
   "id": "dcb5a13b",
   "metadata": {},
   "outputs": [
    {
     "name": "stdout",
     "output_type": "stream",
     "text": [
      "Please enter a number 10\n",
      "Please enter operator sign from +,-,*,/ /\n",
      "Please enter another number 5\n",
      "Division 2.0\n"
     ]
    }
   ],
   "source": [
    "a = int(input('Please enter a number '))\n",
    "op = input('Please enter operator sign from +,-,*,/ ')\n",
    "b = int(input('Please enter another number '))\n",
    "if op == '+':\n",
    "    print('Addition',a + b)\n",
    "elif op == '-':\n",
    "    print('Difference',a - b)\n",
    "elif op == '*':\n",
    "    print('Multiplication',a * b)\n",
    "elif op == '/':\n",
    "    print('Division',a / b)"
   ]
  },
  {
   "cell_type": "code",
   "execution_count": 68,
   "id": "f33b0552",
   "metadata": {},
   "outputs": [
    {
     "data": {
      "text/plain": [
       "['Hello,', 'welcome', 'to', 'my', 'world.']"
      ]
     },
     "execution_count": 68,
     "metadata": {},
     "output_type": "execute_result"
    }
   ],
   "source": [
    "string = \"Hello, welcome to my world.\"\n",
    "string.split()"
   ]
  },
  {
   "cell_type": "code",
   "execution_count": null,
   "id": "d6acbfe5",
   "metadata": {},
   "outputs": [],
   "source": []
  }
 ],
 "metadata": {
  "kernelspec": {
   "display_name": "Python 3",
   "language": "python",
   "name": "python3"
  },
  "language_info": {
   "codemirror_mode": {
    "name": "ipython",
    "version": 3
   },
   "file_extension": ".py",
   "mimetype": "text/x-python",
   "name": "python",
   "nbconvert_exporter": "python",
   "pygments_lexer": "ipython3",
   "version": "3.8.8"
  }
 },
 "nbformat": 4,
 "nbformat_minor": 5
}
