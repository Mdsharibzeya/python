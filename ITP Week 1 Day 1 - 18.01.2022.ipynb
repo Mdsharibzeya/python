{
 "cells": [
  {
   "cell_type": "markdown",
   "id": "8a5968d3",
   "metadata": {},
   "source": [
    "# This is an Heading - Day 1"
   ]
  },
  {
   "cell_type": "markdown",
   "id": "0445e1c5",
   "metadata": {},
   "source": [
    "# Analysis Part 1"
   ]
  },
  {
   "cell_type": "markdown",
   "id": "c3d045c0",
   "metadata": {},
   "source": [
    "This is a normal paragraph of my Notebook."
   ]
  },
  {
   "cell_type": "markdown",
   "id": "448a406f",
   "metadata": {},
   "source": [
    "# New Heading\n",
    "This a para."
   ]
  },
  {
   "cell_type": "code",
   "execution_count": 1,
   "id": "e7f82fe6",
   "metadata": {},
   "outputs": [],
   "source": [
    "# This is an comment."
   ]
  },
  {
   "cell_type": "markdown",
   "id": "599eea46",
   "metadata": {},
   "source": [
    "# Variable and DataTypes in Python"
   ]
  },
  {
   "cell_type": "code",
   "execution_count": 1,
   "id": "8b428138",
   "metadata": {},
   "outputs": [],
   "source": [
    "a = 100"
   ]
  },
  {
   "cell_type": "code",
   "execution_count": 2,
   "id": "dce3758a",
   "metadata": {},
   "outputs": [
    {
     "data": {
      "text/plain": [
       "int"
      ]
     },
     "execution_count": 2,
     "metadata": {},
     "output_type": "execute_result"
    }
   ],
   "source": [
    "type(a)"
   ]
  },
  {
   "cell_type": "code",
   "execution_count": 3,
   "id": "7f15b909",
   "metadata": {},
   "outputs": [],
   "source": [
    "b = 10.0"
   ]
  },
  {
   "cell_type": "code",
   "execution_count": 4,
   "id": "69be340a",
   "metadata": {},
   "outputs": [
    {
     "data": {
      "text/plain": [
       "float"
      ]
     },
     "execution_count": 4,
     "metadata": {},
     "output_type": "execute_result"
    }
   ],
   "source": [
    "type(b)"
   ]
  },
  {
   "cell_type": "code",
   "execution_count": 5,
   "id": "8b50a602",
   "metadata": {},
   "outputs": [],
   "source": [
    "c = True"
   ]
  },
  {
   "cell_type": "code",
   "execution_count": 6,
   "id": "bf1062a2",
   "metadata": {},
   "outputs": [
    {
     "data": {
      "text/plain": [
       "bool"
      ]
     },
     "execution_count": 6,
     "metadata": {},
     "output_type": "execute_result"
    }
   ],
   "source": [
    "type(c)"
   ]
  },
  {
   "cell_type": "code",
   "execution_count": 7,
   "id": "b5aa9ca4",
   "metadata": {},
   "outputs": [],
   "source": [
    "d = 'India'"
   ]
  },
  {
   "cell_type": "code",
   "execution_count": 8,
   "id": "9f29df0a",
   "metadata": {},
   "outputs": [
    {
     "data": {
      "text/plain": [
       "str"
      ]
     },
     "execution_count": 8,
     "metadata": {},
     "output_type": "execute_result"
    }
   ],
   "source": [
    "type(d)"
   ]
  },
  {
   "cell_type": "code",
   "execution_count": 9,
   "id": "eee8137c",
   "metadata": {},
   "outputs": [
    {
     "data": {
      "text/plain": [
       "100"
      ]
     },
     "execution_count": 9,
     "metadata": {},
     "output_type": "execute_result"
    }
   ],
   "source": [
    "a"
   ]
  },
  {
   "cell_type": "code",
   "execution_count": 10,
   "id": "8c1b8678",
   "metadata": {},
   "outputs": [
    {
     "data": {
      "text/plain": [
       "10.0"
      ]
     },
     "execution_count": 10,
     "metadata": {},
     "output_type": "execute_result"
    }
   ],
   "source": [
    "a\n",
    "b"
   ]
  },
  {
   "cell_type": "code",
   "execution_count": 11,
   "id": "760cf06d",
   "metadata": {},
   "outputs": [
    {
     "name": "stdout",
     "output_type": "stream",
     "text": [
      "100\n"
     ]
    }
   ],
   "source": [
    "print(a)"
   ]
  },
  {
   "cell_type": "code",
   "execution_count": 12,
   "id": "fd6e3b56",
   "metadata": {},
   "outputs": [
    {
     "name": "stdout",
     "output_type": "stream",
     "text": [
      "100\n",
      "10.0\n"
     ]
    }
   ],
   "source": [
    "print(a)\n",
    "print(b)"
   ]
  },
  {
   "cell_type": "code",
   "execution_count": 13,
   "id": "d98d4731",
   "metadata": {},
   "outputs": [
    {
     "name": "stdout",
     "output_type": "stream",
     "text": [
      "True\n",
      "India\n"
     ]
    }
   ],
   "source": [
    "print(c)\n",
    "print(d)"
   ]
  },
  {
   "cell_type": "code",
   "execution_count": 14,
   "id": "1fe2aac4",
   "metadata": {},
   "outputs": [
    {
     "name": "stdout",
     "output_type": "stream",
     "text": [
      "Hello World!\n"
     ]
    }
   ],
   "source": [
    "print(\"Hello World!\")"
   ]
  },
  {
   "cell_type": "code",
   "execution_count": 15,
   "id": "75d262dd",
   "metadata": {},
   "outputs": [],
   "source": [
    "first_name = 'Aniruddha'\n",
    "last_name = 'Kalbande'"
   ]
  },
  {
   "cell_type": "code",
   "execution_count": 16,
   "id": "6f251de5",
   "metadata": {},
   "outputs": [
    {
     "name": "stdout",
     "output_type": "stream",
     "text": [
      "AniruddhaKalbande\n"
     ]
    }
   ],
   "source": [
    "print(first_name+last_name)"
   ]
  },
  {
   "cell_type": "code",
   "execution_count": 18,
   "id": "8d88b2ce",
   "metadata": {},
   "outputs": [
    {
     "name": "stdout",
     "output_type": "stream",
     "text": [
      "HelloWorld\n"
     ]
    }
   ],
   "source": [
    "print(\"Hello\"+\"World\")"
   ]
  },
  {
   "cell_type": "markdown",
   "id": "8bd6fa7e",
   "metadata": {},
   "source": [
    "# Note : + us used to joining two string and works as a string concatenator."
   ]
  },
  {
   "cell_type": "code",
   "execution_count": 20,
   "id": "f2ad28b9",
   "metadata": {},
   "outputs": [
    {
     "name": "stdout",
     "output_type": "stream",
     "text": [
      "Hello World\n"
     ]
    }
   ],
   "source": [
    "print(\"Hello\"+' '+\"World\")"
   ]
  },
  {
   "cell_type": "code",
   "execution_count": 21,
   "id": "78a7dc8e",
   "metadata": {},
   "outputs": [],
   "source": [
    "age = 30\n",
    "name = 'Aniruddha'"
   ]
  },
  {
   "cell_type": "code",
   "execution_count": 23,
   "id": "9e43e432",
   "metadata": {},
   "outputs": [
    {
     "name": "stdout",
     "output_type": "stream",
     "text": [
      "Aniruddha 30\n"
     ]
    }
   ],
   "source": [
    "print(name,age)"
   ]
  },
  {
   "cell_type": "code",
   "execution_count": 24,
   "id": "4f11901c",
   "metadata": {},
   "outputs": [
    {
     "name": "stdout",
     "output_type": "stream",
     "text": [
      "My name is Aniruddha and age is 30\n"
     ]
    }
   ],
   "source": [
    "print('My name is',name,'and age is',age)"
   ]
  },
  {
   "cell_type": "code",
   "execution_count": 29,
   "id": "cfac2e1e",
   "metadata": {},
   "outputs": [],
   "source": [
    "a,b,c = 10,20,'Hi'"
   ]
  },
  {
   "cell_type": "code",
   "execution_count": 30,
   "id": "a057f1e9",
   "metadata": {},
   "outputs": [
    {
     "name": "stdout",
     "output_type": "stream",
     "text": [
      "10 20 Hi\n"
     ]
    }
   ],
   "source": [
    "print(a,b,c)"
   ]
  },
  {
   "cell_type": "markdown",
   "id": "b2b6ee94",
   "metadata": {},
   "source": [
    "# Type Casting"
   ]
  },
  {
   "cell_type": "code",
   "execution_count": 31,
   "id": "196036f7",
   "metadata": {},
   "outputs": [],
   "source": [
    "a = 100"
   ]
  },
  {
   "cell_type": "code",
   "execution_count": 32,
   "id": "02344721",
   "metadata": {},
   "outputs": [
    {
     "data": {
      "text/plain": [
       "int"
      ]
     },
     "execution_count": 32,
     "metadata": {},
     "output_type": "execute_result"
    }
   ],
   "source": [
    "type(a)"
   ]
  },
  {
   "cell_type": "code",
   "execution_count": 33,
   "id": "5797dde3",
   "metadata": {},
   "outputs": [],
   "source": [
    "b = float(a)"
   ]
  },
  {
   "cell_type": "code",
   "execution_count": 34,
   "id": "57c0e372",
   "metadata": {},
   "outputs": [
    {
     "data": {
      "text/plain": [
       "100.0"
      ]
     },
     "execution_count": 34,
     "metadata": {},
     "output_type": "execute_result"
    }
   ],
   "source": [
    "b"
   ]
  },
  {
   "cell_type": "code",
   "execution_count": 35,
   "id": "54050556",
   "metadata": {},
   "outputs": [
    {
     "data": {
      "text/plain": [
       "float"
      ]
     },
     "execution_count": 35,
     "metadata": {},
     "output_type": "execute_result"
    }
   ],
   "source": [
    "type(b)"
   ]
  },
  {
   "cell_type": "code",
   "execution_count": 37,
   "id": "ab606c5c",
   "metadata": {},
   "outputs": [
    {
     "data": {
      "text/plain": [
       "'100'"
      ]
     },
     "execution_count": 37,
     "metadata": {},
     "output_type": "execute_result"
    }
   ],
   "source": [
    "c = str(a)\n",
    "c"
   ]
  },
  {
   "cell_type": "code",
   "execution_count": 39,
   "id": "d2281876",
   "metadata": {},
   "outputs": [
    {
     "data": {
      "text/plain": [
       "str"
      ]
     },
     "execution_count": 39,
     "metadata": {},
     "output_type": "execute_result"
    }
   ],
   "source": [
    "type(c)"
   ]
  },
  {
   "cell_type": "code",
   "execution_count": 40,
   "id": "3c5adddf",
   "metadata": {},
   "outputs": [
    {
     "data": {
      "text/plain": [
       "100"
      ]
     },
     "execution_count": 40,
     "metadata": {},
     "output_type": "execute_result"
    }
   ],
   "source": [
    "int(c)"
   ]
  },
  {
   "cell_type": "code",
   "execution_count": 41,
   "id": "001a8deb",
   "metadata": {},
   "outputs": [
    {
     "data": {
      "text/plain": [
       "int"
      ]
     },
     "execution_count": 41,
     "metadata": {},
     "output_type": "execute_result"
    }
   ],
   "source": [
    "type(int(c))"
   ]
  },
  {
   "cell_type": "code",
   "execution_count": 42,
   "id": "28d8d9c4",
   "metadata": {},
   "outputs": [
    {
     "data": {
      "text/plain": [
       "10.23454"
      ]
     },
     "execution_count": 42,
     "metadata": {},
     "output_type": "execute_result"
    }
   ],
   "source": [
    "10.23454"
   ]
  },
  {
   "cell_type": "code",
   "execution_count": 43,
   "id": "b3327e6b",
   "metadata": {},
   "outputs": [],
   "source": [
    "a = 10.23454"
   ]
  },
  {
   "cell_type": "code",
   "execution_count": 44,
   "id": "a8882f43",
   "metadata": {},
   "outputs": [
    {
     "name": "stdout",
     "output_type": "stream",
     "text": [
      "10.23454\n"
     ]
    }
   ],
   "source": [
    "print(a)"
   ]
  },
  {
   "cell_type": "code",
   "execution_count": 45,
   "id": "bd4806da",
   "metadata": {},
   "outputs": [
    {
     "data": {
      "text/plain": [
       "10.23"
      ]
     },
     "execution_count": 45,
     "metadata": {},
     "output_type": "execute_result"
    }
   ],
   "source": [
    "round(a,2)"
   ]
  },
  {
   "cell_type": "code",
   "execution_count": 46,
   "id": "1f1b82e6",
   "metadata": {},
   "outputs": [
    {
     "name": "stdout",
     "output_type": "stream",
     "text": [
      "10.235\n"
     ]
    }
   ],
   "source": [
    "print(round(a,3))"
   ]
  }
 ],
 "metadata": {
  "kernelspec": {
   "display_name": "Python 3",
   "language": "python",
   "name": "python3"
  },
  "language_info": {
   "codemirror_mode": {
    "name": "ipython",
    "version": 3
   },
   "file_extension": ".py",
   "mimetype": "text/x-python",
   "name": "python",
   "nbconvert_exporter": "python",
   "pygments_lexer": "ipython3",
   "version": "3.8.8"
  }
 },
 "nbformat": 4,
 "nbformat_minor": 5
}
