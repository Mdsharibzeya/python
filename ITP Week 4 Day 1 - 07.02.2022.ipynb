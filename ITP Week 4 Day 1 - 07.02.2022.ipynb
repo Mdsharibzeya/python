{
 "cells": [
  {
   "cell_type": "markdown",
   "id": "08cdb622",
   "metadata": {},
   "source": [
    "# Functions in Python "
   ]
  },
  {
   "cell_type": "code",
   "execution_count": 1,
   "id": "c4c1ff11",
   "metadata": {},
   "outputs": [],
   "source": [
    "def greet():\n",
    "    print(\"Hello! How are you?\")"
   ]
  },
  {
   "cell_type": "code",
   "execution_count": 2,
   "id": "1d850839",
   "metadata": {},
   "outputs": [
    {
     "name": "stdout",
     "output_type": "stream",
     "text": [
      "Hello! How are you?\n"
     ]
    }
   ],
   "source": [
    "greet()"
   ]
  },
  {
   "cell_type": "code",
   "execution_count": 3,
   "id": "2ecae0ab",
   "metadata": {},
   "outputs": [],
   "source": [
    "def squareit(a):\n",
    "    print('Square of',a,'is',a*a)"
   ]
  },
  {
   "cell_type": "code",
   "execution_count": 4,
   "id": "d06c29c1",
   "metadata": {},
   "outputs": [
    {
     "ename": "TypeError",
     "evalue": "squareit() missing 1 required positional argument: 'a'",
     "output_type": "error",
     "traceback": [
      "\u001b[0;31m---------------------------------------------------------------------------\u001b[0m",
      "\u001b[0;31mTypeError\u001b[0m                                 Traceback (most recent call last)",
      "\u001b[0;32m<ipython-input-4-503127943079>\u001b[0m in \u001b[0;36m<module>\u001b[0;34m\u001b[0m\n\u001b[0;32m----> 1\u001b[0;31m \u001b[0msquareit\u001b[0m\u001b[0;34m(\u001b[0m\u001b[0;34m)\u001b[0m\u001b[0;34m\u001b[0m\u001b[0;34m\u001b[0m\u001b[0m\n\u001b[0m",
      "\u001b[0;31mTypeError\u001b[0m: squareit() missing 1 required positional argument: 'a'"
     ]
    }
   ],
   "source": [
    "squareit()"
   ]
  },
  {
   "cell_type": "code",
   "execution_count": 5,
   "id": "42bd79df",
   "metadata": {},
   "outputs": [
    {
     "name": "stdout",
     "output_type": "stream",
     "text": [
      "Square of 5 is 25\n"
     ]
    }
   ],
   "source": [
    "squareit(5)"
   ]
  },
  {
   "cell_type": "code",
   "execution_count": 6,
   "id": "2ff0c640",
   "metadata": {},
   "outputs": [
    {
     "name": "stdout",
     "output_type": "stream",
     "text": [
      "Square of 10 is 100\n"
     ]
    }
   ],
   "source": [
    "x = squareit(10)"
   ]
  },
  {
   "cell_type": "code",
   "execution_count": 7,
   "id": "ee30fcc4",
   "metadata": {},
   "outputs": [],
   "source": [
    "x"
   ]
  },
  {
   "cell_type": "code",
   "execution_count": 8,
   "id": "516962db",
   "metadata": {},
   "outputs": [],
   "source": [
    "def squareit1(a):\n",
    "    return a*a"
   ]
  },
  {
   "cell_type": "code",
   "execution_count": 9,
   "id": "bf083f88",
   "metadata": {},
   "outputs": [
    {
     "data": {
      "text/plain": [
       "100"
      ]
     },
     "execution_count": 9,
     "metadata": {},
     "output_type": "execute_result"
    }
   ],
   "source": [
    "squareit1(10)"
   ]
  },
  {
   "cell_type": "code",
   "execution_count": 10,
   "id": "ed1ec36e",
   "metadata": {},
   "outputs": [],
   "source": [
    "x = squareit1(10)"
   ]
  },
  {
   "cell_type": "code",
   "execution_count": 11,
   "id": "93f6321e",
   "metadata": {},
   "outputs": [
    {
     "data": {
      "text/plain": [
       "100"
      ]
     },
     "execution_count": 11,
     "metadata": {},
     "output_type": "execute_result"
    }
   ],
   "source": [
    "x"
   ]
  },
  {
   "cell_type": "markdown",
   "id": "6e47f57a",
   "metadata": {},
   "source": [
    "# Q1. Create a function adder - To take 2 inputs and return sum of them.\n",
    "- Create using proper print statement.\n",
    "- Create using return."
   ]
  },
  {
   "cell_type": "markdown",
   "id": "ed7ce21e",
   "metadata": {},
   "source": [
    "# Q2. Create a function to greet them using their name."
   ]
  },
  {
   "cell_type": "code",
   "execution_count": 12,
   "id": "c2c6688e",
   "metadata": {},
   "outputs": [],
   "source": [
    "def adder(a,b):\n",
    "    print(\"Sum of\",a,'and',b,'is',a+b)"
   ]
  },
  {
   "cell_type": "code",
   "execution_count": 13,
   "id": "5b32d333",
   "metadata": {},
   "outputs": [],
   "source": [
    "def adder1(a,b):\n",
    "    return (a+b)"
   ]
  },
  {
   "cell_type": "code",
   "execution_count": 14,
   "id": "8d0cfcfa",
   "metadata": {},
   "outputs": [],
   "source": [
    "def greet(name):\n",
    "    print('Hello',name,'How are you today?')"
   ]
  },
  {
   "cell_type": "code",
   "execution_count": 15,
   "id": "83ea786c",
   "metadata": {},
   "outputs": [
    {
     "name": "stdout",
     "output_type": "stream",
     "text": [
      "Sum of 10 and 20 is 30\n"
     ]
    }
   ],
   "source": [
    "adder(10,20)"
   ]
  },
  {
   "cell_type": "code",
   "execution_count": 16,
   "id": "32ee11f2",
   "metadata": {},
   "outputs": [
    {
     "data": {
      "text/plain": [
       "30"
      ]
     },
     "execution_count": 16,
     "metadata": {},
     "output_type": "execute_result"
    }
   ],
   "source": [
    "adder1(10,20)"
   ]
  },
  {
   "cell_type": "code",
   "execution_count": 17,
   "id": "c552c9f3",
   "metadata": {},
   "outputs": [
    {
     "name": "stdout",
     "output_type": "stream",
     "text": [
      "Hello Aditya How are you today?\n"
     ]
    }
   ],
   "source": [
    "greet('Aditya')"
   ]
  },
  {
   "cell_type": "markdown",
   "id": "d261a38e",
   "metadata": {},
   "source": [
    "1. Required Arguments\n",
    "2. Keyword Arguments\n",
    "3. Default Arguments\n",
    "4. Positional Arguments\n",
    "5. Variable Length Arguments\n",
    "- *Args\n",
    "- **Kwargs"
   ]
  },
  {
   "cell_type": "markdown",
   "id": "2b13df39",
   "metadata": {},
   "source": [
    "# Keyword Argument"
   ]
  },
  {
   "cell_type": "code",
   "execution_count": 18,
   "id": "e75ec586",
   "metadata": {},
   "outputs": [],
   "source": [
    "def entry(name,age):\n",
    "    print('Name of the user is',name)\n",
    "    print('Age of the user is',age)"
   ]
  },
  {
   "cell_type": "code",
   "execution_count": 19,
   "id": "70e9e3a8",
   "metadata": {},
   "outputs": [
    {
     "name": "stdout",
     "output_type": "stream",
     "text": [
      "Name of the user is Adiya\n",
      "Age of the user is 30\n"
     ]
    }
   ],
   "source": [
    "entry(name='Adiya',age=30)"
   ]
  },
  {
   "cell_type": "code",
   "execution_count": 20,
   "id": "26fdd4d0",
   "metadata": {},
   "outputs": [
    {
     "name": "stdout",
     "output_type": "stream",
     "text": [
      "Name of the user is 30\n",
      "Age of the user is Arun\n"
     ]
    }
   ],
   "source": [
    "entry(name=30,age='Arun')"
   ]
  },
  {
   "cell_type": "markdown",
   "id": "54657238",
   "metadata": {},
   "source": [
    "# Default Arguments"
   ]
  },
  {
   "cell_type": "markdown",
   "id": "a13c42f1",
   "metadata": {},
   "source": [
    "# We can assign default value to an argument."
   ]
  },
  {
   "cell_type": "code",
   "execution_count": 21,
   "id": "1cc06ff4",
   "metadata": {},
   "outputs": [],
   "source": [
    "def student(name,kind='Fresher'):\n",
    "    print('The student',name,'is of kind',kind)"
   ]
  },
  {
   "cell_type": "code",
   "execution_count": 22,
   "id": "900b1c01",
   "metadata": {},
   "outputs": [
    {
     "ename": "TypeError",
     "evalue": "student() missing 1 required positional argument: 'name'",
     "output_type": "error",
     "traceback": [
      "\u001b[0;31m---------------------------------------------------------------------------\u001b[0m",
      "\u001b[0;31mTypeError\u001b[0m                                 Traceback (most recent call last)",
      "\u001b[0;32m<ipython-input-22-130e243516c3>\u001b[0m in \u001b[0;36m<module>\u001b[0;34m\u001b[0m\n\u001b[0;32m----> 1\u001b[0;31m \u001b[0mstudent\u001b[0m\u001b[0;34m(\u001b[0m\u001b[0;34m)\u001b[0m\u001b[0;34m\u001b[0m\u001b[0;34m\u001b[0m\u001b[0m\n\u001b[0m",
      "\u001b[0;31mTypeError\u001b[0m: student() missing 1 required positional argument: 'name'"
     ]
    }
   ],
   "source": [
    "student()"
   ]
  },
  {
   "cell_type": "code",
   "execution_count": 23,
   "id": "84487ddb",
   "metadata": {},
   "outputs": [
    {
     "name": "stdout",
     "output_type": "stream",
     "text": [
      "The student Sneha is of kind Fresher\n"
     ]
    }
   ],
   "source": [
    "student('Sneha')"
   ]
  },
  {
   "cell_type": "code",
   "execution_count": 24,
   "id": "86942b7a",
   "metadata": {},
   "outputs": [
    {
     "name": "stdout",
     "output_type": "stream",
     "text": [
      "The student Priya is of kind Experienced\n"
     ]
    }
   ],
   "source": [
    "student('Priya','Experienced')"
   ]
  },
  {
   "cell_type": "code",
   "execution_count": 25,
   "id": "5e9081f1",
   "metadata": {},
   "outputs": [
    {
     "name": "stdout",
     "output_type": "stream",
     "text": [
      "The student Rahul is of kind Fresher\n"
     ]
    }
   ],
   "source": [
    "student('Rahul')"
   ]
  },
  {
   "cell_type": "markdown",
   "id": "a8d41d29",
   "metadata": {},
   "source": [
    "# Positional Arguments "
   ]
  },
  {
   "cell_type": "code",
   "execution_count": 26,
   "id": "9b4ab51e",
   "metadata": {},
   "outputs": [],
   "source": [
    "def employee(fn,ln):\n",
    "    print('First Name is',fn)\n",
    "    print('Last Name is',ln)"
   ]
  },
  {
   "cell_type": "code",
   "execution_count": 27,
   "id": "0168b0ca",
   "metadata": {},
   "outputs": [
    {
     "name": "stdout",
     "output_type": "stream",
     "text": [
      "First Name is Aniruddha\n",
      "Last Name is Kalbande\n"
     ]
    }
   ],
   "source": [
    "employee('Aniruddha','Kalbande')"
   ]
  },
  {
   "cell_type": "code",
   "execution_count": 28,
   "id": "31368b92",
   "metadata": {},
   "outputs": [
    {
     "name": "stdout",
     "output_type": "stream",
     "text": [
      "First Name is Kalbande\n",
      "Last Name is Aniruddha\n"
     ]
    }
   ],
   "source": [
    "employee('Kalbande','Aniruddha')"
   ]
  },
  {
   "cell_type": "code",
   "execution_count": 29,
   "id": "51d18a56",
   "metadata": {},
   "outputs": [
    {
     "name": "stdout",
     "output_type": "stream",
     "text": [
      "First Name is Aniurddha\n",
      "Last Name is Kalbande\n"
     ]
    }
   ],
   "source": [
    "employee(ln='Kalbande',fn='Aniurddha')"
   ]
  },
  {
   "cell_type": "markdown",
   "id": "5432a373",
   "metadata": {},
   "source": [
    "# Variable Length Argument - *Args (Arguments)"
   ]
  },
  {
   "cell_type": "code",
   "execution_count": 33,
   "id": "16715811",
   "metadata": {},
   "outputs": [],
   "source": [
    "def cities(*city):\n",
    "    for c in city:\n",
    "        print('I have been to',c)\n",
    "    print(type(city))"
   ]
  },
  {
   "cell_type": "code",
   "execution_count": 34,
   "id": "218f4421",
   "metadata": {},
   "outputs": [
    {
     "name": "stdout",
     "output_type": "stream",
     "text": [
      "I have been to Delhi\n",
      "<class 'tuple'>\n"
     ]
    }
   ],
   "source": [
    "cities('Delhi')"
   ]
  },
  {
   "cell_type": "code",
   "execution_count": 35,
   "id": "b9a49b52",
   "metadata": {},
   "outputs": [
    {
     "name": "stdout",
     "output_type": "stream",
     "text": [
      "I have been to Delhi\n",
      "I have been to Pune\n",
      "I have been to Mumbai\n",
      "I have been to Chennai\n",
      "<class 'tuple'>\n"
     ]
    }
   ],
   "source": [
    "cities('Delhi','Pune','Mumbai','Chennai')"
   ]
  },
  {
   "cell_type": "markdown",
   "id": "1bcc4dd6",
   "metadata": {},
   "source": [
    "# Create a function to take input as GST value and then all the product prices as an input., Then print all the values with original and value inclusive of GST%."
   ]
  },
  {
   "cell_type": "code",
   "execution_count": null,
   "id": "9e7dc426",
   "metadata": {},
   "outputs": [],
   "source": [
    "xyz(18,100,200)\n",
    "\n",
    "'Product of price 100 will have 118 as a price inclusive of 18 percent GST.'\n",
    "'Product of price 200 will have 236 as a price inclusive of 18 percent GST.'"
   ]
  },
  {
   "cell_type": "code",
   "execution_count": 41,
   "id": "1af046aa",
   "metadata": {},
   "outputs": [],
   "source": [
    "def gst(per,*price):\n",
    "    for p in price:\n",
    "        print('Product of price',p,'will have',(p+(per*p)/100),'as a Price inclusive of',per,'percent GST.')"
   ]
  },
  {
   "cell_type": "code",
   "execution_count": 42,
   "id": "a70382c4",
   "metadata": {},
   "outputs": [
    {
     "name": "stdout",
     "output_type": "stream",
     "text": [
      "Product of price 100 will have 118.0 as a Price inclusive of 18 percent GST.\n",
      "Product of price 200 will have 236.0 as a Price inclusive of 18 percent GST.\n"
     ]
    }
   ],
   "source": [
    "gst(18,100,200)"
   ]
  },
  {
   "cell_type": "code",
   "execution_count": 43,
   "id": "563e4c09",
   "metadata": {},
   "outputs": [
    {
     "name": "stdout",
     "output_type": "stream",
     "text": [
      "Product of price 100 will have 110.0 as a Price inclusive of 10 percent GST.\n",
      "Product of price 200 will have 220.0 as a Price inclusive of 10 percent GST.\n",
      "Product of price 300 will have 330.0 as a Price inclusive of 10 percent GST.\n"
     ]
    }
   ],
   "source": [
    "gst(10,100,200,300)"
   ]
  },
  {
   "cell_type": "code",
   "execution_count": 44,
   "id": "21552473",
   "metadata": {},
   "outputs": [
    {
     "name": "stdout",
     "output_type": "stream",
     "text": [
      "Product of price 100 will have 118.0 as a Price inclusive of 18 percent GST.\n",
      "Product of price 200 will have 236.0 as a Price inclusive of 18 percent GST.\n",
      "Product of price 300 will have 354.0 as a Price inclusive of 18 percent GST.\n",
      "Product of price 400 will have 472.0 as a Price inclusive of 18 percent GST.\n"
     ]
    }
   ],
   "source": [
    "gst(18,100,200,300,400)"
   ]
  },
  {
   "cell_type": "markdown",
   "id": "c3f9df6b",
   "metadata": {},
   "source": [
    "# Variable Lenght Argument - **KWargs (Keyword Arguments)"
   ]
  },
  {
   "cell_type": "code",
   "execution_count": 49,
   "id": "4d67af94",
   "metadata": {},
   "outputs": [],
   "source": [
    "def function1(**Kwargs):\n",
    "    for i,j in Kwargs.items():\n",
    "        print('Keyword is',i,'Value is',j)\n",
    "    print('Type of',type(Kwargs))"
   ]
  },
  {
   "cell_type": "code",
   "execution_count": 50,
   "id": "93f5ae41",
   "metadata": {},
   "outputs": [
    {
     "name": "stdout",
     "output_type": "stream",
     "text": [
      "Keyword is Firstname Value is Ravi\n",
      "Keyword is Lastname Value is Rastogi\n",
      "Keyword is Age Value is 24\n",
      "Type of <class 'dict'>\n"
     ]
    }
   ],
   "source": [
    "function1(Firstname='Ravi',Lastname='Rastogi',Age=24)"
   ]
  },
  {
   "cell_type": "code",
   "execution_count": 51,
   "id": "ff4c455b",
   "metadata": {},
   "outputs": [],
   "source": [
    "def function1(**Kwargs):\n",
    "    for i,j in Kwargs.items():\n",
    "        print(i,'=',j)"
   ]
  },
  {
   "cell_type": "code",
   "execution_count": 52,
   "id": "6fcc9173",
   "metadata": {},
   "outputs": [
    {
     "name": "stdout",
     "output_type": "stream",
     "text": [
      "Firstname = Ravi\n",
      "Lastname = Rastogi\n",
      "Age = 24\n"
     ]
    }
   ],
   "source": [
    "function1(Firstname='Ravi',Lastname='Rastogi',Age=24)"
   ]
  },
  {
   "cell_type": "markdown",
   "id": "45e6097c",
   "metadata": {},
   "source": [
    "# Scope of Variable "
   ]
  },
  {
   "cell_type": "code",
   "execution_count": 59,
   "id": "5e5307e9",
   "metadata": {},
   "outputs": [],
   "source": [
    "a = 10 # A here is a Global Variable , having scope in the entire program."
   ]
  },
  {
   "cell_type": "code",
   "execution_count": 60,
   "id": "c4631cd1",
   "metadata": {},
   "outputs": [],
   "source": [
    "def func1():\n",
    "    a = 50 # A is a local variable with scope insite the function only.\n",
    "    print('Value of a inside the function is',a)"
   ]
  },
  {
   "cell_type": "code",
   "execution_count": 61,
   "id": "983d9800",
   "metadata": {},
   "outputs": [
    {
     "name": "stdout",
     "output_type": "stream",
     "text": [
      "Value of a without function call 10\n"
     ]
    }
   ],
   "source": [
    "print('Value of a without function call',a)"
   ]
  },
  {
   "cell_type": "code",
   "execution_count": 62,
   "id": "7846abd2",
   "metadata": {},
   "outputs": [
    {
     "name": "stdout",
     "output_type": "stream",
     "text": [
      "Value of a inside the function is 50\n"
     ]
    }
   ],
   "source": [
    "func1()"
   ]
  },
  {
   "cell_type": "code",
   "execution_count": 63,
   "id": "41db4fc8",
   "metadata": {},
   "outputs": [
    {
     "name": "stdout",
     "output_type": "stream",
     "text": [
      "Value of a after function call 10\n"
     ]
    }
   ],
   "source": [
    "print('Value of a after function call',a)"
   ]
  },
  {
   "cell_type": "markdown",
   "id": "ba8ee3dd",
   "metadata": {},
   "source": [
    "# Defining scope of variable as Global"
   ]
  },
  {
   "cell_type": "code",
   "execution_count": 64,
   "id": "e211808a",
   "metadata": {},
   "outputs": [],
   "source": [
    "def func2():\n",
    "    global a\n",
    "    a = 50\n",
    "    print('Value of a inside the function',a)"
   ]
  },
  {
   "cell_type": "code",
   "execution_count": 65,
   "id": "e5da8eda",
   "metadata": {},
   "outputs": [],
   "source": [
    "a = 100"
   ]
  },
  {
   "cell_type": "code",
   "execution_count": 66,
   "id": "507eab02",
   "metadata": {},
   "outputs": [
    {
     "name": "stdout",
     "output_type": "stream",
     "text": [
      "Value of a outside the function 100\n"
     ]
    }
   ],
   "source": [
    "print('Value of a outside the function',a)"
   ]
  },
  {
   "cell_type": "code",
   "execution_count": 67,
   "id": "c655f4a1",
   "metadata": {},
   "outputs": [
    {
     "name": "stdout",
     "output_type": "stream",
     "text": [
      "Value of a inside the function 50\n"
     ]
    }
   ],
   "source": [
    "func2()"
   ]
  },
  {
   "cell_type": "code",
   "execution_count": 68,
   "id": "01a40060",
   "metadata": {},
   "outputs": [
    {
     "name": "stdout",
     "output_type": "stream",
     "text": [
      "Value of a outside the function 50\n"
     ]
    }
   ],
   "source": [
    "print('Value of a outside the function',a)"
   ]
  },
  {
   "cell_type": "markdown",
   "id": "b6551e41",
   "metadata": {},
   "source": [
    "# Doubt Question "
   ]
  },
  {
   "cell_type": "code",
   "execution_count": 69,
   "id": "50a1c275",
   "metadata": {},
   "outputs": [],
   "source": [
    "l1 = [10,20,30]"
   ]
  },
  {
   "cell_type": "code",
   "execution_count": 70,
   "id": "592d0ed0",
   "metadata": {},
   "outputs": [
    {
     "name": "stdout",
     "output_type": "stream",
     "text": [
      "10\n",
      "20\n",
      "30\n"
     ]
    }
   ],
   "source": [
    "for i in l1:\n",
    "    print(i)"
   ]
  },
  {
   "cell_type": "code",
   "execution_count": 71,
   "id": "38fa5bc2",
   "metadata": {},
   "outputs": [],
   "source": [
    "l2 = [[1,10],[2,20],[3,30]]"
   ]
  },
  {
   "cell_type": "code",
   "execution_count": 72,
   "id": "0e144f3d",
   "metadata": {},
   "outputs": [
    {
     "name": "stdout",
     "output_type": "stream",
     "text": [
      "[1, 10]\n",
      "[2, 20]\n",
      "[3, 30]\n"
     ]
    }
   ],
   "source": [
    "for i in l2:\n",
    "    print(i)"
   ]
  },
  {
   "cell_type": "code",
   "execution_count": 73,
   "id": "38afb8d4",
   "metadata": {},
   "outputs": [
    {
     "name": "stdout",
     "output_type": "stream",
     "text": [
      "1 10\n",
      "2 20\n",
      "3 30\n"
     ]
    }
   ],
   "source": [
    "for i,j in l2:\n",
    "    print(i,j)"
   ]
  },
  {
   "cell_type": "code",
   "execution_count": 86,
   "id": "c4a81cce",
   "metadata": {},
   "outputs": [],
   "source": [
    "l3 = [[1,10,100],[2,20,200],[3,30,300]]"
   ]
  },
  {
   "cell_type": "code",
   "execution_count": 87,
   "id": "72e62306",
   "metadata": {},
   "outputs": [
    {
     "name": "stdout",
     "output_type": "stream",
     "text": [
      "[1, 10, 100]\n",
      "[2, 20, 200]\n",
      "[3, 30, 300]\n"
     ]
    }
   ],
   "source": [
    "for i in l3:\n",
    "    print(i)"
   ]
  },
  {
   "cell_type": "code",
   "execution_count": 88,
   "id": "e0e99bca",
   "metadata": {},
   "outputs": [
    {
     "name": "stdout",
     "output_type": "stream",
     "text": [
      "1 10 100\n",
      "2 20 200\n",
      "3 30 300\n"
     ]
    }
   ],
   "source": [
    "for i,j,k in l3:\n",
    "    print(i,j,k)"
   ]
  },
  {
   "cell_type": "code",
   "execution_count": 80,
   "id": "300a6aaf",
   "metadata": {},
   "outputs": [
    {
     "data": {
      "text/plain": [
       "{'A': 10, 'B': 20}"
      ]
     },
     "execution_count": 80,
     "metadata": {},
     "output_type": "execute_result"
    }
   ],
   "source": [
    "d1 = {'A':10,'B':20}\n",
    "d1"
   ]
  },
  {
   "cell_type": "code",
   "execution_count": 81,
   "id": "0b08c3ae",
   "metadata": {},
   "outputs": [
    {
     "data": {
      "text/plain": [
       "[('A', 10), ('B', 20)]"
      ]
     },
     "execution_count": 81,
     "metadata": {},
     "output_type": "execute_result"
    }
   ],
   "source": [
    "list(d1.items())"
   ]
  },
  {
   "cell_type": "code",
   "execution_count": 82,
   "id": "02763ca8",
   "metadata": {},
   "outputs": [
    {
     "name": "stdout",
     "output_type": "stream",
     "text": [
      "A 10\n",
      "B 20\n"
     ]
    }
   ],
   "source": [
    "for i,j in d1.items():\n",
    "    print(i,j)"
   ]
  },
  {
   "cell_type": "code",
   "execution_count": null,
   "id": "807cc626",
   "metadata": {},
   "outputs": [],
   "source": []
  }
 ],
 "metadata": {
  "kernelspec": {
   "display_name": "Python 3",
   "language": "python",
   "name": "python3"
  },
  "language_info": {
   "codemirror_mode": {
    "name": "ipython",
    "version": 3
   },
   "file_extension": ".py",
   "mimetype": "text/x-python",
   "name": "python",
   "nbconvert_exporter": "python",
   "pygments_lexer": "ipython3",
   "version": "3.8.8"
  }
 },
 "nbformat": 4,
 "nbformat_minor": 5
}
